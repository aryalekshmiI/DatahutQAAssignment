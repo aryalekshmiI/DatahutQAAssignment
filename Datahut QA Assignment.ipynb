{
 "cells": [
  {
   "cell_type": "markdown",
   "id": "7005c231",
   "metadata": {},
   "source": [
    "# Datahut QA Assignment"
   ]
  },
  {
   "cell_type": "markdown",
   "id": "9db935fb",
   "metadata": {},
   "source": [
    "#####  Load the Dataset\n",
    "Use libraries like pandas in Python to load your dataset"
   ]
  },
  {
   "cell_type": "code",
   "execution_count": 1,
   "id": "24fc43ff",
   "metadata": {},
   "outputs": [
    {
     "name": "stdout",
     "output_type": "stream",
     "text": [
      "Requirement already satisfied: pandas in c:\\users\\user\\appdata\\local\\packages\\pythonsoftwarefoundation.python.3.11_qbz5n2kfra8p0\\localcache\\local-packages\\python311\\site-packages (2.2.3)\n",
      "Requirement already satisfied: numpy>=1.23.2 in c:\\users\\user\\appdata\\local\\packages\\pythonsoftwarefoundation.python.3.11_qbz5n2kfra8p0\\localcache\\local-packages\\python311\\site-packages (from pandas) (1.26.0)\n",
      "Requirement already satisfied: python-dateutil>=2.8.2 in c:\\users\\user\\appdata\\local\\packages\\pythonsoftwarefoundation.python.3.11_qbz5n2kfra8p0\\localcache\\local-packages\\python311\\site-packages (from pandas) (2.8.2)\n",
      "Requirement already satisfied: pytz>=2020.1 in c:\\users\\user\\appdata\\local\\packages\\pythonsoftwarefoundation.python.3.11_qbz5n2kfra8p0\\localcache\\local-packages\\python311\\site-packages (from pandas) (2024.2)\n",
      "Requirement already satisfied: tzdata>=2022.7 in c:\\users\\user\\appdata\\local\\packages\\pythonsoftwarefoundation.python.3.11_qbz5n2kfra8p0\\localcache\\local-packages\\python311\\site-packages (from pandas) (2024.2)\n",
      "Requirement already satisfied: six>=1.5 in c:\\users\\user\\appdata\\local\\packages\\pythonsoftwarefoundation.python.3.11_qbz5n2kfra8p0\\localcache\\local-packages\\python311\\site-packages (from python-dateutil>=2.8.2->pandas) (1.16.0)\n"
     ]
    },
    {
     "name": "stderr",
     "output_type": "stream",
     "text": [
      "\n",
      "[notice] A new release of pip is available: 24.0 -> 24.2\n",
      "[notice] To update, run: C:\\Users\\user\\AppData\\Local\\Microsoft\\WindowsApps\\PythonSoftwareFoundation.Python.3.11_qbz5n2kfra8p0\\python.exe -m pip install --upgrade pip\n"
     ]
    }
   ],
   "source": [
    "# Importing necessary libraries\n",
    "!pip install pandas\n",
    "import pandas as pd"
   ]
  },
  {
   "cell_type": "code",
   "execution_count": 2,
   "id": "838198dd",
   "metadata": {},
   "outputs": [
    {
     "data": {
      "text/html": [
       "<div>\n",
       "<style scoped>\n",
       "    .dataframe tbody tr th:only-of-type {\n",
       "        vertical-align: middle;\n",
       "    }\n",
       "\n",
       "    .dataframe tbody tr th {\n",
       "        vertical-align: top;\n",
       "    }\n",
       "\n",
       "    .dataframe thead th {\n",
       "        text-align: right;\n",
       "    }\n",
       "</style>\n",
       "<table border=\"1\" class=\"dataframe\">\n",
       "  <thead>\n",
       "    <tr style=\"text-align: right;\">\n",
       "      <th></th>\n",
       "      <th>Unnamed: 0</th>\n",
       "      <th>ID</th>\n",
       "      <th>Name</th>\n",
       "      <th>Age</th>\n",
       "      <th>Email</th>\n",
       "      <th>Join Date</th>\n",
       "      <th>Salary</th>\n",
       "      <th>Department</th>\n",
       "    </tr>\n",
       "  </thead>\n",
       "  <tbody>\n",
       "    <tr>\n",
       "      <th>0</th>\n",
       "      <td>0</td>\n",
       "      <td>1e407ff9-6255-489d-a0de-34135d4f74bd</td>\n",
       "      <td>Hunter Thomas</td>\n",
       "      <td>25.0</td>\n",
       "      <td>xlopez@hotmail.com</td>\n",
       "      <td>NaN</td>\n",
       "      <td>88552.0</td>\n",
       "      <td>Sales</td>\n",
       "    </tr>\n",
       "    <tr>\n",
       "      <th>1</th>\n",
       "      <td>1</td>\n",
       "      <td>379f55b8-87d5-4739-a146-7400b78c24d1</td>\n",
       "      <td>Jeremy Irwin</td>\n",
       "      <td>90.0</td>\n",
       "      <td>Jillian Jenkins</td>\n",
       "      <td>2022-07-07</td>\n",
       "      <td>139227.0</td>\n",
       "      <td>NaN</td>\n",
       "    </tr>\n",
       "    <tr>\n",
       "      <th>2</th>\n",
       "      <td>2</td>\n",
       "      <td>18261368-dfa1-47f0-afc6-bddf45926b07</td>\n",
       "      <td>Jennifer Hammondquickly</td>\n",
       "      <td>66.0</td>\n",
       "      <td>jscottgreen.biz</td>\n",
       "      <td>2023-11-21</td>\n",
       "      <td>65550.0</td>\n",
       "      <td>Engineering</td>\n",
       "    </tr>\n",
       "    <tr>\n",
       "      <th>3</th>\n",
       "      <td>3</td>\n",
       "      <td>ae7cf7cf-17cf-4c8b-9c44-4f61a9a238e5</td>\n",
       "      <td>Sydney Taylorso</td>\n",
       "      <td>39.0</td>\n",
       "      <td>luke56gonzalez.com</td>\n",
       "      <td>2021-11-05</td>\n",
       "      <td>139932.0</td>\n",
       "      <td>SupportJ</td>\n",
       "    </tr>\n",
       "    <tr>\n",
       "      <th>4</th>\n",
       "      <td>4</td>\n",
       "      <td>14ed3e6a-e0f5-4bbe-8d93-8665267f5c90</td>\n",
       "      <td>Julia Lee</td>\n",
       "      <td>71.0</td>\n",
       "      <td>figueroakayla@yahoo.com</td>\n",
       "      <td>NaN</td>\n",
       "      <td>143456.0</td>\n",
       "      <td>Marketing</td>\n",
       "    </tr>\n",
       "  </tbody>\n",
       "</table>\n",
       "</div>"
      ],
      "text/plain": [
       "   Unnamed: 0                                    ID                     Name  \\\n",
       "0           0  1e407ff9-6255-489d-a0de-34135d4f74bd            Hunter Thomas   \n",
       "1           1  379f55b8-87d5-4739-a146-7400b78c24d1             Jeremy Irwin   \n",
       "2           2  18261368-dfa1-47f0-afc6-bddf45926b07  Jennifer Hammondquickly   \n",
       "3           3  ae7cf7cf-17cf-4c8b-9c44-4f61a9a238e5          Sydney Taylorso   \n",
       "4           4  14ed3e6a-e0f5-4bbe-8d93-8665267f5c90                Julia Lee   \n",
       "\n",
       "    Age                    Email   Join Date    Salary   Department  \n",
       "0  25.0       xlopez@hotmail.com         NaN   88552.0        Sales  \n",
       "1  90.0          Jillian Jenkins  2022-07-07  139227.0          NaN  \n",
       "2  66.0          jscottgreen.biz  2023-11-21   65550.0  Engineering  \n",
       "3  39.0       luke56gonzalez.com  2021-11-05  139932.0     SupportJ  \n",
       "4  71.0  figueroakayla@yahoo.com         NaN  143456.0    Marketing  "
      ]
     },
     "execution_count": 2,
     "metadata": {},
     "output_type": "execute_result"
    }
   ],
   "source": [
    "# Load the CSV file\n",
    "df = pd.read_csv('https://raw.githubusercontent.com/aryalekshmiI/Data-Science-and-Machine-Learning/main/messy_data.csv')  # Replace 'your_file.csv' with your file path\n",
    "\n",
    "# Get an overview of the dataset \n",
    "df.head()  # This shows the first few rows of the DataFrame"
   ]
  },
  {
   "cell_type": "markdown",
   "id": "6159d155",
   "metadata": {},
   "source": [
    "Unnamed: 0: Index column (likely unnecessary).\n",
    "\n",
    "ID: Unique identifier.\n",
    "\n",
    "Name: Contains many missing values (8,667 non-null).\n",
    "\n",
    "Age: Some missing and possibly erroneous values (e.g., age 90 might be an error).\n",
    "\n",
    "Email: Some missing and possibly improperly formatted values.\n",
    "\n",
    "Join Date: Some missing values, and the format needs verification.\n",
    "\n",
    "Salary: Some missing values.\n",
    "\n",
    "Department: Many missing values, possibly some misformatted."
   ]
  },
  {
   "cell_type": "code",
   "execution_count": 3,
   "id": "793793f5",
   "metadata": {},
   "outputs": [],
   "source": [
    "# Drop column 'Unnamed: 0'\n",
    "df = df.drop('Unnamed: 0', axis=1)"
   ]
  },
  {
   "cell_type": "markdown",
   "id": "ec5cd8fd",
   "metadata": {},
   "source": [
    "#####  Explore the Dataset"
   ]
  },
  {
   "cell_type": "code",
   "execution_count": 4,
   "id": "36dba1a1",
   "metadata": {},
   "outputs": [
    {
     "name": "stdout",
     "output_type": "stream",
     "text": [
      "Shape of the dataset: (11000, 7)\n"
     ]
    }
   ],
   "source": [
    "# Checking the shape of the dataset\n",
    "\n",
    "print(\"Shape of the dataset:\", df.shape)"
   ]
  },
  {
   "cell_type": "code",
   "execution_count": 5,
   "id": "5bb9f8c8",
   "metadata": {},
   "outputs": [
    {
     "name": "stdout",
     "output_type": "stream",
     "text": [
      "<class 'pandas.core.frame.DataFrame'>\n",
      "RangeIndex: 11000 entries, 0 to 10999\n",
      "Data columns (total 7 columns):\n",
      " #   Column      Non-Null Count  Dtype  \n",
      "---  ------      --------------  -----  \n",
      " 0   ID          11000 non-null  object \n",
      " 1   Name        8667 non-null   object \n",
      " 2   Age         9253 non-null   float64\n",
      " 3   Email       9731 non-null   object \n",
      " 4   Join Date   8808 non-null   object \n",
      " 5   Salary      8761 non-null   float64\n",
      " 6   Department  8745 non-null   object \n",
      "dtypes: float64(2), object(5)\n",
      "memory usage: 601.7+ KB\n"
     ]
    }
   ],
   "source": [
    "# Finding the basic information regarding dataset\n",
    "\n",
    "df.info()"
   ]
  },
  {
   "cell_type": "code",
   "execution_count": 6,
   "id": "48311280",
   "metadata": {},
   "outputs": [
    {
     "name": "stdout",
     "output_type": "stream",
     "text": [
      "Missing Values in Each Column:\n",
      "Name          2333\n",
      "Age           1747\n",
      "Email         1269\n",
      "Join Date     2192\n",
      "Salary        2239\n",
      "Department    2255\n",
      "dtype: int64\n"
     ]
    }
   ],
   "source": [
    "# Check for missing values\n",
    "missing_values = df.isnull().sum()\n",
    "print(\"Missing Values in Each Column:\")\n",
    "print(missing_values[missing_values > 0])"
   ]
  },
  {
   "cell_type": "markdown",
   "id": "56be98c3",
   "metadata": {},
   "source": [
    "###### Handle Missing Values"
   ]
  },
  {
   "cell_type": "markdown",
   "id": "6d0e1170",
   "metadata": {},
   "source": [
    "Name: Since this is likely an important identifier, rows with missing names can be dropped.\n",
    "\n",
    "Age: We can fill the missing values with the median age since it’s numerical and may have outliers.\n",
    "\n",
    "Email: Since it’s a contact information field, missing emails can be left as they are, or rows with missing emails can be dropped based on their importance.\n",
    "\n",
    "Join Date: If the date of joining is critical, rows with missing values can be removed. Alternatively, these could be filled with a default value like the most common date or left as missing.\n",
    "\n",
    "Salary: Filling with the median salary is a reasonable approach.\n",
    "\n",
    "Department: If the department is critical for analysis, rows with missing values can be dropped. Alternatively, it can be filled with the most common department."
   ]
  },
  {
   "cell_type": "code",
   "execution_count": 7,
   "id": "27c9bd97",
   "metadata": {},
   "outputs": [
    {
     "name": "stdout",
     "output_type": "stream",
     "text": [
      "ID              0\n",
      "Name            0\n",
      "Age             0\n",
      "Email           0\n",
      "Join Date     827\n",
      "Salary          0\n",
      "Department      0\n",
      "dtype: int64\n"
     ]
    },
    {
     "name": "stderr",
     "output_type": "stream",
     "text": [
      "C:\\Users\\user\\AppData\\Local\\Temp\\ipykernel_14096\\884660148.py:8: FutureWarning: A value is trying to be set on a copy of a DataFrame or Series through chained assignment using an inplace method.\n",
      "The behavior will change in pandas 3.0. This inplace method will never work because the intermediate object on which we are setting values always behaves as a copy.\n",
      "\n",
      "For example, when doing 'df[col].method(value, inplace=True)', try using 'df.method({col: value}, inplace=True)' or df[col] = df[col].method(value) instead, to perform the operation inplace on the original object.\n",
      "\n",
      "\n",
      "  df_cleaned['Age'].fillna(median_age, inplace=True)\n",
      "C:\\Users\\user\\AppData\\Local\\Temp\\ipykernel_14096\\884660148.py:8: SettingWithCopyWarning: \n",
      "A value is trying to be set on a copy of a slice from a DataFrame\n",
      "\n",
      "See the caveats in the documentation: https://pandas.pydata.org/pandas-docs/stable/user_guide/indexing.html#returning-a-view-versus-a-copy\n",
      "  df_cleaned['Age'].fillna(median_age, inplace=True)\n",
      "C:\\Users\\user\\AppData\\Local\\Temp\\ipykernel_14096\\884660148.py:9: FutureWarning: A value is trying to be set on a copy of a DataFrame or Series through chained assignment using an inplace method.\n",
      "The behavior will change in pandas 3.0. This inplace method will never work because the intermediate object on which we are setting values always behaves as a copy.\n",
      "\n",
      "For example, when doing 'df[col].method(value, inplace=True)', try using 'df.method({col: value}, inplace=True)' or df[col] = df[col].method(value) instead, to perform the operation inplace on the original object.\n",
      "\n",
      "\n",
      "  df_cleaned['Salary'].fillna(median_salary, inplace=True)\n",
      "C:\\Users\\user\\AppData\\Local\\Temp\\ipykernel_14096\\884660148.py:9: SettingWithCopyWarning: \n",
      "A value is trying to be set on a copy of a slice from a DataFrame\n",
      "\n",
      "See the caveats in the documentation: https://pandas.pydata.org/pandas-docs/stable/user_guide/indexing.html#returning-a-view-versus-a-copy\n",
      "  df_cleaned['Salary'].fillna(median_salary, inplace=True)\n",
      "C:\\Users\\user\\AppData\\Local\\Temp\\ipykernel_14096\\884660148.py:13: FutureWarning: A value is trying to be set on a copy of a DataFrame or Series through chained assignment using an inplace method.\n",
      "The behavior will change in pandas 3.0. This inplace method will never work because the intermediate object on which we are setting values always behaves as a copy.\n",
      "\n",
      "For example, when doing 'df[col].method(value, inplace=True)', try using 'df.method({col: value}, inplace=True)' or df[col] = df[col].method(value) instead, to perform the operation inplace on the original object.\n",
      "\n",
      "\n",
      "  df_cleaned['Department'].fillna(most_common_department, inplace=True)\n",
      "C:\\Users\\user\\AppData\\Local\\Temp\\ipykernel_14096\\884660148.py:13: SettingWithCopyWarning: \n",
      "A value is trying to be set on a copy of a slice from a DataFrame\n",
      "\n",
      "See the caveats in the documentation: https://pandas.pydata.org/pandas-docs/stable/user_guide/indexing.html#returning-a-view-versus-a-copy\n",
      "  df_cleaned['Department'].fillna(most_common_department, inplace=True)\n"
     ]
    }
   ],
   "source": [
    "#Drop rows with missing 'Name' and 'Email'\n",
    "df_cleaned = df.dropna(subset=['Name', 'Email'])\n",
    "\n",
    "#Fill missing 'Age' and 'Salary' with median values\n",
    "median_age = df_cleaned['Age'].median()\n",
    "median_salary = df_cleaned['Salary'].median()\n",
    "\n",
    "df_cleaned['Age'].fillna(median_age, inplace=True)\n",
    "df_cleaned['Salary'].fillna(median_salary, inplace=True)\n",
    "\n",
    "#Fill missing 'Department' with the most frequent value (mode)\n",
    "most_common_department = df_cleaned['Department'].mode()[0]\n",
    "df_cleaned['Department'].fillna(most_common_department, inplace=True)\n",
    "\n",
    "#Check for any remaining missing values\n",
    "print(df_cleaned.isnull().sum())\n",
    "\n",
    "#Save the cleaned dataset\n",
    "df_cleaned.to_csv('cleaned_dataset.csv', index=False)\n"
   ]
  },
  {
   "cell_type": "markdown",
   "id": "f293c6e0",
   "metadata": {},
   "source": [
    "###### 5. Remove Duplicates:"
   ]
  },
  {
   "cell_type": "code",
   "execution_count": 8,
   "id": "a0413ae5",
   "metadata": {},
   "outputs": [
    {
     "name": "stdout",
     "output_type": "stream",
     "text": [
      "\n",
      "Duplicated Rows:\n",
      "291\n"
     ]
    }
   ],
   "source": [
    "# Check for duplicates\n",
    "print(\"\\nDuplicated Rows:\")\n",
    "print(df.duplicated().sum())"
   ]
  },
  {
   "cell_type": "code",
   "execution_count": 9,
   "id": "e71df24e",
   "metadata": {
    "scrolled": false
   },
   "outputs": [
    {
     "data": {
      "text/plain": [
       "ID            10000\n",
       "Name           7929\n",
       "Age              73\n",
       "Email          9160\n",
       "Join Date      3338\n",
       "Salary         8122\n",
       "Department      264\n",
       "dtype: int64"
      ]
     },
     "execution_count": 9,
     "metadata": {},
     "output_type": "execute_result"
    }
   ],
   "source": [
    "# Finding the number of unique values present in each column\n",
    "df.nunique()"
   ]
  },
  {
   "cell_type": "code",
   "execution_count": 10,
   "id": "55471927",
   "metadata": {},
   "outputs": [
    {
     "data": {
      "text/html": [
       "<div>\n",
       "<style scoped>\n",
       "    .dataframe tbody tr th:only-of-type {\n",
       "        vertical-align: middle;\n",
       "    }\n",
       "\n",
       "    .dataframe tbody tr th {\n",
       "        vertical-align: top;\n",
       "    }\n",
       "\n",
       "    .dataframe thead th {\n",
       "        text-align: right;\n",
       "    }\n",
       "</style>\n",
       "<table border=\"1\" class=\"dataframe\">\n",
       "  <thead>\n",
       "    <tr style=\"text-align: right;\">\n",
       "      <th></th>\n",
       "      <th>ID</th>\n",
       "      <th>Name</th>\n",
       "      <th>Age</th>\n",
       "      <th>Email</th>\n",
       "      <th>Join Date</th>\n",
       "      <th>Salary</th>\n",
       "      <th>Department</th>\n",
       "    </tr>\n",
       "  </thead>\n",
       "  <tbody>\n",
       "    <tr>\n",
       "      <th>0</th>\n",
       "      <td>1e407ff9-6255-489d-a0de-34135d4f74bd</td>\n",
       "      <td>Hunter Thomas</td>\n",
       "      <td>25.0</td>\n",
       "      <td>xlopez@hotmail.com</td>\n",
       "      <td>NaN</td>\n",
       "      <td>88552.0</td>\n",
       "      <td>Sales</td>\n",
       "    </tr>\n",
       "    <tr>\n",
       "      <th>1</th>\n",
       "      <td>379f55b8-87d5-4739-a146-7400b78c24d1</td>\n",
       "      <td>Jeremy Irwin</td>\n",
       "      <td>90.0</td>\n",
       "      <td>Jillian Jenkins</td>\n",
       "      <td>2022-07-07</td>\n",
       "      <td>139227.0</td>\n",
       "      <td>NaN</td>\n",
       "    </tr>\n",
       "    <tr>\n",
       "      <th>2</th>\n",
       "      <td>18261368-dfa1-47f0-afc6-bddf45926b07</td>\n",
       "      <td>Jennifer Hammondquickly</td>\n",
       "      <td>66.0</td>\n",
       "      <td>jscottgreen.biz</td>\n",
       "      <td>2023-11-21</td>\n",
       "      <td>65550.0</td>\n",
       "      <td>Engineering</td>\n",
       "    </tr>\n",
       "    <tr>\n",
       "      <th>3</th>\n",
       "      <td>ae7cf7cf-17cf-4c8b-9c44-4f61a9a238e5</td>\n",
       "      <td>Sydney Taylorso</td>\n",
       "      <td>39.0</td>\n",
       "      <td>luke56gonzalez.com</td>\n",
       "      <td>2021-11-05</td>\n",
       "      <td>139932.0</td>\n",
       "      <td>SupportJ</td>\n",
       "    </tr>\n",
       "    <tr>\n",
       "      <th>4</th>\n",
       "      <td>14ed3e6a-e0f5-4bbe-8d93-8665267f5c90</td>\n",
       "      <td>Julia Lee</td>\n",
       "      <td>71.0</td>\n",
       "      <td>figueroakayla@yahoo.com</td>\n",
       "      <td>NaN</td>\n",
       "      <td>143456.0</td>\n",
       "      <td>Marketing</td>\n",
       "    </tr>\n",
       "    <tr>\n",
       "      <th>...</th>\n",
       "      <td>...</td>\n",
       "      <td>...</td>\n",
       "      <td>...</td>\n",
       "      <td>...</td>\n",
       "      <td>...</td>\n",
       "      <td>...</td>\n",
       "      <td>...</td>\n",
       "    </tr>\n",
       "    <tr>\n",
       "      <th>9995</th>\n",
       "      <td>610210a0-e344-4b79-95ce-ff6583d7d8ce</td>\n",
       "      <td>David Lambalone</td>\n",
       "      <td>70.0</td>\n",
       "      <td>jeremybanks@rogers.biz</td>\n",
       "      <td>2020-12-17</td>\n",
       "      <td>88472.0</td>\n",
       "      <td>Support</td>\n",
       "    </tr>\n",
       "    <tr>\n",
       "      <th>9996</th>\n",
       "      <td>eb66531c-901a-4da7-bc60-a4951886b5a8</td>\n",
       "      <td>Karen Yoder</td>\n",
       "      <td>59.0</td>\n",
       "      <td>smithdaniel@williams-thompson.net</td>\n",
       "      <td>2023-12-12</td>\n",
       "      <td>71575.0</td>\n",
       "      <td>NaN</td>\n",
       "    </tr>\n",
       "    <tr>\n",
       "      <th>9997</th>\n",
       "      <td>86a83f25-224d-498d-9901-c2e4a49ffbd2</td>\n",
       "      <td>Anthony Rasmussen</td>\n",
       "      <td>57.0</td>\n",
       "      <td>nfranklin@yahoo.com</td>\n",
       "      <td>05/12/1979</td>\n",
       "      <td>128456.0</td>\n",
       "      <td>Marketing</td>\n",
       "    </tr>\n",
       "    <tr>\n",
       "      <th>9998</th>\n",
       "      <td>9cbba425-6af2-455f-8566-62402de79661</td>\n",
       "      <td>Nicole Moore</td>\n",
       "      <td>82.0</td>\n",
       "      <td>lmyers@gmail.com</td>\n",
       "      <td>2020-10-28</td>\n",
       "      <td>128939.0</td>\n",
       "      <td>EngineeringV</td>\n",
       "    </tr>\n",
       "    <tr>\n",
       "      <th>9999</th>\n",
       "      <td>ae6eee4d-ca8f-4932-96f1-487230875968</td>\n",
       "      <td>Steven Gilbert</td>\n",
       "      <td>18.0</td>\n",
       "      <td>cjones@yahoo.com</td>\n",
       "      <td>2022-06-01</td>\n",
       "      <td>101447.0</td>\n",
       "      <td>HR</td>\n",
       "    </tr>\n",
       "  </tbody>\n",
       "</table>\n",
       "<p>10000 rows × 7 columns</p>\n",
       "</div>"
      ],
      "text/plain": [
       "                                        ID                     Name   Age  \\\n",
       "0     1e407ff9-6255-489d-a0de-34135d4f74bd            Hunter Thomas  25.0   \n",
       "1     379f55b8-87d5-4739-a146-7400b78c24d1             Jeremy Irwin  90.0   \n",
       "2     18261368-dfa1-47f0-afc6-bddf45926b07  Jennifer Hammondquickly  66.0   \n",
       "3     ae7cf7cf-17cf-4c8b-9c44-4f61a9a238e5          Sydney Taylorso  39.0   \n",
       "4     14ed3e6a-e0f5-4bbe-8d93-8665267f5c90                Julia Lee  71.0   \n",
       "...                                    ...                      ...   ...   \n",
       "9995  610210a0-e344-4b79-95ce-ff6583d7d8ce          David Lambalone  70.0   \n",
       "9996  eb66531c-901a-4da7-bc60-a4951886b5a8              Karen Yoder  59.0   \n",
       "9997  86a83f25-224d-498d-9901-c2e4a49ffbd2        Anthony Rasmussen  57.0   \n",
       "9998  9cbba425-6af2-455f-8566-62402de79661             Nicole Moore  82.0   \n",
       "9999  ae6eee4d-ca8f-4932-96f1-487230875968           Steven Gilbert  18.0   \n",
       "\n",
       "                                  Email   Join Date    Salary    Department  \n",
       "0                    xlopez@hotmail.com         NaN   88552.0         Sales  \n",
       "1                       Jillian Jenkins  2022-07-07  139227.0           NaN  \n",
       "2                       jscottgreen.biz  2023-11-21   65550.0   Engineering  \n",
       "3                    luke56gonzalez.com  2021-11-05  139932.0      SupportJ  \n",
       "4               figueroakayla@yahoo.com         NaN  143456.0     Marketing  \n",
       "...                                 ...         ...       ...           ...  \n",
       "9995             jeremybanks@rogers.biz  2020-12-17   88472.0       Support  \n",
       "9996  smithdaniel@williams-thompson.net  2023-12-12   71575.0           NaN  \n",
       "9997                nfranklin@yahoo.com  05/12/1979  128456.0     Marketing  \n",
       "9998                   lmyers@gmail.com  2020-10-28  128939.0  EngineeringV  \n",
       "9999                   cjones@yahoo.com  2022-06-01  101447.0            HR  \n",
       "\n",
       "[10000 rows x 7 columns]"
      ]
     },
     "execution_count": 10,
     "metadata": {},
     "output_type": "execute_result"
    }
   ],
   "source": [
    "#To remove duplicates on specific column ID because ID is unique identity\n",
    "df.drop_duplicates(subset=['ID'])"
   ]
  },
  {
   "cell_type": "markdown",
   "id": "b2b446ec",
   "metadata": {},
   "source": [
    "###### Check which columns contain missing data."
   ]
  },
  {
   "cell_type": "code",
   "execution_count": 11,
   "id": "3f4f757f",
   "metadata": {},
   "outputs": [
    {
     "name": "stderr",
     "output_type": "stream",
     "text": [
      "\n",
      "[notice] A new release of pip is available: 24.0 -> 24.2\n",
      "[notice] To update, run: C:\\Users\\user\\AppData\\Local\\Microsoft\\WindowsApps\\PythonSoftwareFoundation.Python.3.11_qbz5n2kfra8p0\\python.exe -m pip install --upgrade pip\n"
     ]
    },
    {
     "name": "stdout",
     "output_type": "stream",
     "text": [
      "Requirement already satisfied: seaborn in c:\\users\\user\\appdata\\local\\packages\\pythonsoftwarefoundation.python.3.11_qbz5n2kfra8p0\\localcache\\local-packages\\python311\\site-packages (0.13.2)\n",
      "Requirement already satisfied: numpy!=1.24.0,>=1.20 in c:\\users\\user\\appdata\\local\\packages\\pythonsoftwarefoundation.python.3.11_qbz5n2kfra8p0\\localcache\\local-packages\\python311\\site-packages (from seaborn) (1.26.0)\n",
      "Requirement already satisfied: pandas>=1.2 in c:\\users\\user\\appdata\\local\\packages\\pythonsoftwarefoundation.python.3.11_qbz5n2kfra8p0\\localcache\\local-packages\\python311\\site-packages (from seaborn) (2.2.3)\n",
      "Requirement already satisfied: matplotlib!=3.6.1,>=3.4 in c:\\users\\user\\appdata\\local\\packages\\pythonsoftwarefoundation.python.3.11_qbz5n2kfra8p0\\localcache\\local-packages\\python311\\site-packages (from seaborn) (3.9.2)\n",
      "Requirement already satisfied: contourpy>=1.0.1 in c:\\users\\user\\appdata\\local\\packages\\pythonsoftwarefoundation.python.3.11_qbz5n2kfra8p0\\localcache\\local-packages\\python311\\site-packages (from matplotlib!=3.6.1,>=3.4->seaborn) (1.3.0)\n",
      "Requirement already satisfied: cycler>=0.10 in c:\\users\\user\\appdata\\local\\packages\\pythonsoftwarefoundation.python.3.11_qbz5n2kfra8p0\\localcache\\local-packages\\python311\\site-packages (from matplotlib!=3.6.1,>=3.4->seaborn) (0.12.1)\n",
      "Requirement already satisfied: fonttools>=4.22.0 in c:\\users\\user\\appdata\\local\\packages\\pythonsoftwarefoundation.python.3.11_qbz5n2kfra8p0\\localcache\\local-packages\\python311\\site-packages (from matplotlib!=3.6.1,>=3.4->seaborn) (4.54.1)\n",
      "Requirement already satisfied: kiwisolver>=1.3.1 in c:\\users\\user\\appdata\\local\\packages\\pythonsoftwarefoundation.python.3.11_qbz5n2kfra8p0\\localcache\\local-packages\\python311\\site-packages (from matplotlib!=3.6.1,>=3.4->seaborn) (1.4.7)\n",
      "Requirement already satisfied: packaging>=20.0 in c:\\users\\user\\appdata\\local\\packages\\pythonsoftwarefoundation.python.3.11_qbz5n2kfra8p0\\localcache\\local-packages\\python311\\site-packages (from matplotlib!=3.6.1,>=3.4->seaborn) (23.1)\n",
      "Requirement already satisfied: pillow>=8 in c:\\users\\user\\appdata\\local\\packages\\pythonsoftwarefoundation.python.3.11_qbz5n2kfra8p0\\localcache\\local-packages\\python311\\site-packages (from matplotlib!=3.6.1,>=3.4->seaborn) (10.4.0)\n",
      "Requirement already satisfied: pyparsing>=2.3.1 in c:\\users\\user\\appdata\\local\\packages\\pythonsoftwarefoundation.python.3.11_qbz5n2kfra8p0\\localcache\\local-packages\\python311\\site-packages (from matplotlib!=3.6.1,>=3.4->seaborn) (3.1.4)\n",
      "Requirement already satisfied: python-dateutil>=2.7 in c:\\users\\user\\appdata\\local\\packages\\pythonsoftwarefoundation.python.3.11_qbz5n2kfra8p0\\localcache\\local-packages\\python311\\site-packages (from matplotlib!=3.6.1,>=3.4->seaborn) (2.8.2)\n",
      "Requirement already satisfied: pytz>=2020.1 in c:\\users\\user\\appdata\\local\\packages\\pythonsoftwarefoundation.python.3.11_qbz5n2kfra8p0\\localcache\\local-packages\\python311\\site-packages (from pandas>=1.2->seaborn) (2024.2)\n",
      "Requirement already satisfied: tzdata>=2022.7 in c:\\users\\user\\appdata\\local\\packages\\pythonsoftwarefoundation.python.3.11_qbz5n2kfra8p0\\localcache\\local-packages\\python311\\site-packages (from pandas>=1.2->seaborn) (2024.2)\n",
      "Requirement already satisfied: six>=1.5 in c:\\users\\user\\appdata\\local\\packages\\pythonsoftwarefoundation.python.3.11_qbz5n2kfra8p0\\localcache\\local-packages\\python311\\site-packages (from python-dateutil>=2.7->matplotlib!=3.6.1,>=3.4->seaborn) (1.16.0)\n"
     ]
    },
    {
     "data": {
      "image/png": "[encoded data removed]",
      "text/plain": [
       "<Figure size 1000x600 with 1 Axes>"
      ]
     },
     "metadata": {},
     "output_type": "display_data"
    }
   ],
   "source": [
    "# Visualize missing values with a heatmap \n",
    "#install seaborn)\n",
    "!python -m pip install seaborn\n",
    "import seaborn as sns\n",
    "import matplotlib.pyplot as plt\n",
    "\n",
    "plt.figure(figsize=(10, 6))\n",
    "sns.heatmap(df.isnull(), cbar=False, cmap='viridis')\n",
    "plt.title('Missing Data')\n",
    "plt.show()"
   ]
  },
  {
   "cell_type": "code",
   "execution_count": 12,
   "id": "3d83a216",
   "metadata": {},
   "outputs": [
    {
     "name": "stdout",
     "output_type": "stream",
     "text": [
      "Non-numeric values in numeric columns:\n",
      "\n",
      "Age:\n",
      "                                         ID                Name  Age  \\\n",
      "16     241e20d7-cc36-495e-86c2-2928bbaa93d8        Mark Wilkins  NaN   \n",
      "18     05e36d3f-6422-4329-80b2-1fd3543ee254                 NaN  NaN   \n",
      "19     a8b6e8e3-f2f2-42c6-b2d7-2bbfd9b91125                 NaN  NaN   \n",
      "20     2205ccce-1a22-44cb-9107-01990df7f935           Eric Cole  NaN   \n",
      "24     3f741e1f-f781-463e-a12a-871d3866c711                 NaN  NaN   \n",
      "...                                     ...                 ...  ...   \n",
      "10975  2adebc64-900d-431a-93cd-118de4bb6eb7                 NaN  NaN   \n",
      "10978  1ea7f125-698d-49dc-a97a-955b4dc4fc9b                 NaN  NaN   \n",
      "10988  4edd1e6e-cfb5-4300-9c74-e9642836e134                 NaN  NaN   \n",
      "10995  07c223be-03e6-4f70-a2b5-86df778cc61a                 NaN  NaN   \n",
      "10997  ed19c966-d6d8-4047-b410-b6e595a39340  Stephanie Riossell  NaN   \n",
      "\n",
      "                           Email   Join Date         Salary Department  \n",
      "16       longjennifer@parker.biz  17/02/1991   85794.000000     SalesX  \n",
      "18                           NaN         NaN            NaN        NaN  \n",
      "19                           NaN         NaN            NaN        NaN  \n",
      "20                 Denise Martin  2022-01-19   60013.000000   Supportu  \n",
      "24                           NaN         NaN            NaN        NaN  \n",
      "...                          ...         ...            ...        ...  \n",
      "10975                        NaN         NaN            NaN        NaN  \n",
      "10978                        NaN         NaN            NaN        NaN  \n",
      "10988                        NaN         NaN            NaN        NaN  \n",
      "10995                        NaN         NaN            NaN        NaN  \n",
      "10997  robert96@pollard-frye.com  15/08/2006  122609.594149         HR  \n",
      "\n",
      "[1747 rows x 7 columns]\n",
      "\n",
      "Salary:\n",
      "                                         ID               Name   Age  \\\n",
      "7      465e625b-f924-4061-8356-c7e3130f7118       Derek Murphy  38.0   \n",
      "15     0074dbd5-10d0-463f-9b10-d8473bea04ba                NaN  22.0   \n",
      "17     eab72304-0aff-45f8-ab0d-6af25b1620bc                NaN  30.0   \n",
      "18     05e36d3f-6422-4329-80b2-1fd3543ee254                NaN   NaN   \n",
      "19     a8b6e8e3-f2f2-42c6-b2d7-2bbfd9b91125                NaN   NaN   \n",
      "...                                     ...                ...   ...   \n",
      "10978  1ea7f125-698d-49dc-a97a-955b4dc4fc9b                NaN   NaN   \n",
      "10981  959bd09e-0291-45ca-ba59-c7175d669764  Angela Brownthink  40.0   \n",
      "10988  4edd1e6e-cfb5-4300-9c74-e9642836e134                NaN   NaN   \n",
      "10995  07c223be-03e6-4f70-a2b5-86df778cc61a                NaN   NaN   \n",
      "10996  da8a6bbc-5026-4630-848d-f64e80dac56c   Steven Armstrong  38.0   \n",
      "\n",
      "                                 Email   Join Date  Salary   Department  \n",
      "7             josephrobertsongmail.com  2021-01-12     NaN      Support  \n",
      "15     ericjohnson@castillo-mendez.net  2023-03-01     NaN           HR  \n",
      "17            armstrongpamelayahoo.com  23/11/1998     NaN  Engineering  \n",
      "18                                 NaN         NaN     NaN          NaN  \n",
      "19                                 NaN         NaN     NaN          NaN  \n",
      "...                                ...         ...     ...          ...  \n",
      "10978                              NaN         NaN     NaN          NaN  \n",
      "10981         davischarlotte@gmail.com  2022-07-28     NaN          NaN  \n",
      "10988                              NaN         NaN     NaN          NaN  \n",
      "10995                              NaN         NaN     NaN          NaN  \n",
      "10996                 molly89gmail.com  2021-06-24     NaN        Sales  \n",
      "\n",
      "[2239 rows x 7 columns]\n"
     ]
    }
   ],
   "source": [
    "# Check for non-numeric values in numeric columns\n",
    "numeric_columns = df.select_dtypes(include=['float64', 'int64']).columns\n",
    "print(\"Non-numeric values in numeric columns:\")\n",
    "for col in numeric_columns:\n",
    "    print(f\"\\n{col}:\")\n",
    "    print(df[~df[col].apply(lambda x: pd.to_numeric(x, errors='coerce')).notnull()])\n",
    "\n",
    "# Check for inconsistent date formats in date columns\n",
    "# Ensure dates are properly formatted\n",
    "if 'date_column_name' in df.columns:\n",
    "    df['date_column_name'] = pd.to_datetime(df['date_column_name'], errors='coerce')\n",
    "    print(df['date_column_name'].head())\n"
   ]
  },
  {
   "cell_type": "code",
   "execution_count": 13,
   "id": "31f707d6",
   "metadata": {},
   "outputs": [
    {
     "name": "stdout",
     "output_type": "stream",
     "text": [
      "Duplicated Rows:\n",
      "                                         ID            Name   Age  \\\n",
      "10002  07727d57-4574-4a0f-9372-51e7e7d526e7             NaN   NaN   \n",
      "10005  418d64f6-5c24-4023-a19b-085664d8aa82             NaN   NaN   \n",
      "10008  07a02c66-def7-4a7b-8b5a-792c3742d3f0      Lisa Reyes  37.0   \n",
      "10009  e3628acd-d04a-4b74-9775-1aecb6b938ba             NaN   NaN   \n",
      "10011  6dd96a78-a797-404b-b47a-b5723ba8e605             NaN   NaN   \n",
      "...                                     ...             ...   ...   \n",
      "10975  2adebc64-900d-431a-93cd-118de4bb6eb7             NaN   NaN   \n",
      "10978  1ea7f125-698d-49dc-a97a-955b4dc4fc9b             NaN   NaN   \n",
      "10988  4edd1e6e-cfb5-4300-9c74-e9642836e134             NaN   NaN   \n",
      "10995  07c223be-03e6-4f70-a2b5-86df778cc61a             NaN   NaN   \n",
      "10999  fc25a38a-5747-46eb-b6d3-7173f8255809  Caroline Ochoa  53.0   \n",
      "\n",
      "                   Email   Join Date    Salary Department  \n",
      "10002                NaN         NaN       NaN        NaN  \n",
      "10005                NaN         NaN       NaN        NaN  \n",
      "10008  dsmithhotmail.com  2022-06-06   87274.0      Sales  \n",
      "10009                NaN         NaN       NaN        NaN  \n",
      "10011                NaN         NaN       NaN        NaN  \n",
      "...                  ...         ...       ...        ...  \n",
      "10975                NaN         NaN       NaN        NaN  \n",
      "10978                NaN         NaN       NaN        NaN  \n",
      "10988                NaN         NaN       NaN        NaN  \n",
      "10995                NaN         NaN       NaN        NaN  \n",
      "10999  cdavis@hodges.com  2023-08-10  149224.0    Support  \n",
      "\n",
      "[291 rows x 7 columns]\n"
     ]
    }
   ],
   "source": [
    "# List duplicated rows\n",
    "duplicates = df[df.duplicated()]\n",
    "print(\"Duplicated Rows:\")\n",
    "print(duplicates)"
   ]
  },
  {
   "cell_type": "code",
   "execution_count": 14,
   "id": "46e2c5c6",
   "metadata": {},
   "outputs": [
    {
     "name": "stdout",
     "output_type": "stream",
     "text": [
      "\n",
      "Statistical Summary of Numeric Columns:\n",
      "               Age         Salary\n",
      "count  9253.000000    8761.000000\n",
      "mean     54.162650   89886.585012\n",
      "std      21.072919   34896.320117\n",
      "min      18.000000   24655.136613\n",
      "25%      36.000000   59723.844874\n",
      "50%      54.000000   89241.000000\n",
      "75%      72.000000  119491.000000\n",
      "max      90.000000  176156.206747\n"
     ]
    },
    {
     "data": {
      "image/png": "[encoded data removed]",
      "text/plain": [
       "<Figure size 1000x600 with 1 Axes>"
      ]
     },
     "metadata": {},
     "output_type": "display_data"
    }
   ],
   "source": [
    "# Descriptive statistics to check for outliers\n",
    "print(\"\\nStatistical Summary of Numeric Columns:\")\n",
    "print(df.describe())\n",
    "\n",
    "# Boxplot to visualize outliers\n",
    "plt.figure(figsize=(10, 6))\n",
    "sns.boxplot(data=df.select_dtypes(include=['float64', 'int64']))\n",
    "plt.title('Outliers in Numeric Columns')\n",
    "plt.show()"
   ]
  },
  {
   "cell_type": "code",
   "execution_count": 15,
   "id": "0b9a4d25",
   "metadata": {},
   "outputs": [
    {
     "name": "stdout",
     "output_type": "stream",
     "text": [
      "\n",
      "Unique values in ID:\n",
      "['1e407ff9-6255-489d-a0de-34135d4f74bd'\n",
      " '379f55b8-87d5-4739-a146-7400b78c24d1'\n",
      " '18261368-dfa1-47f0-afc6-bddf45926b07' ...\n",
      " '86a83f25-224d-498d-9901-c2e4a49ffbd2'\n",
      " '9cbba425-6af2-455f-8566-62402de79661'\n",
      " 'ae6eee4d-ca8f-4932-96f1-487230875968']\n",
      "\n",
      "Unique values in Name:\n",
      "['Hunter Thomas' 'Jeremy Irwin' 'Jennifer Hammondquickly' ...\n",
      " 'Shelley Hopkinslive' 'Steven Armstrong' 'Stephanie Riossell']\n",
      "\n",
      "Unique values in Email:\n",
      "['xlopez@hotmail.com' 'Jillian Jenkins' 'jscottgreen.biz' ...\n",
      " 'weavermary@yahoo.com' 'kingcharles@hotmail.com' 'molly89gmail.com']\n",
      "\n",
      "Unique values in Join Date:\n",
      "[nan '2022-07-07' '2023-11-21' ... '01/05/1982' '25/12/1992' '15/08/2006']\n",
      "\n",
      "Unique values in Department:\n",
      "['Sales' nan 'Engineering' 'SupportJ' 'Marketing' 'SupportE' 'HR'\n",
      " 'Support' 'HRC' 'SalesA' 'SalesX' 'Supportu' 'Engineeringi' 'MarketingR'\n",
      " 'Salesw' 'SalesK' 'MarketingU' 'Salesi' 'HRa' 'SalesG' 'Supporty'\n",
      " 'SalesN' 'Marketinge' 'Marketingv' 'HRv' 'SalesM' 'EngineeringL'\n",
      " 'MarketingQ' 'HRs' 'SalesW' 'Supportj' 'Salesd' 'Marketingu'\n",
      " 'Engineeringj' 'SalesU' 'HRO' 'MarketingH' 'Salesj' 'Saleso' 'SalesZ'\n",
      " 'Engineeringe' 'MarketingF' 'Marketingr' 'Engineeringm' 'HRW' 'HRt' 'HRz'\n",
      " 'Engineeringp' 'HRF' 'EngineeringS' 'SupportW' 'EngineeringT' 'SalesC'\n",
      " 'SalesB' 'SupportC' 'SalesY' 'Marketingn' 'EngineeringK' 'Marketingz'\n",
      " 'HRo' 'SupportB' 'HRi' 'Salest' 'Supportg' 'Supporta' 'HRn' 'SupportQ'\n",
      " 'Salesr' 'EngineeringG' 'Supportm' 'Supporto' 'EngineeringH' 'Marketingw'\n",
      " 'EngineeringM' 'Supportz' 'HRr' 'Salesy' 'MarketingD' 'HRE' 'Marketingm'\n",
      " 'HRw' 'Marketingo' 'Supportk' 'MarketingN' 'SupportS' 'EngineeringD'\n",
      " 'Marketingp' 'Salesl' 'MarketingI' 'MarketingL' 'SupportT' 'Engineeringn'\n",
      " 'MarketingO' 'SalesF' 'Salesz' 'Marketingt' 'Engineeringv' 'HRL' 'HRI'\n",
      " 'EngineeringR' 'HRD' 'Marketingk' 'HRQ' 'Salese' 'Saless' 'Marketingi'\n",
      " 'Salesn' 'Engineeringl' 'SalesE' 'HRy' 'EngineeringE' 'SalesD' 'HRm'\n",
      " 'Engineerings' 'SupportF' 'Marketingy' 'MarketingG' 'SalesI' 'Salesu'\n",
      " 'Engineeringg' 'EngineeringQ' 'MarketingE' 'SupportA' 'Engineeringq'\n",
      " 'EngineeringA' 'Supporte' 'Engineeringu' 'EngineeringO' 'SalesS'\n",
      " 'Supportv' 'HRK' 'Engineeringb' 'SalesV' 'HRT' 'SupportY' 'SalesQ'\n",
      " 'MarketingX' 'Supportp' 'Marketingf' 'HRU' 'HRp' 'Salesq' 'HRg'\n",
      " 'Marketingl' 'EngineeringV' 'Engineeringt' 'SupportO' 'SalesJ'\n",
      " 'EngineeringX' 'Engineeringc' 'Marketingh' 'EngineeringC' 'Engineeringz'\n",
      " 'HRP' 'Salesv' 'Engineeringk' 'SupportH' 'Salesk' 'Supporth' 'SupportZ'\n",
      " 'Supportq' 'Supportr' 'HRJ' 'Supportd' 'HRZ' 'MarketingZ' 'Salesc'\n",
      " 'EngineeringJ' 'Engineeringx' 'SalesR' 'Engineeringh' 'Supportl'\n",
      " 'SupportX' 'Marketingg' 'SalesH' 'MarketingC' 'SupportV' 'HRq'\n",
      " 'Marketingb' 'Supporti' 'Supportw' 'SupportL' 'Marketings' 'Marketingq'\n",
      " 'HRM' 'Supportt' 'HRX' 'HRl' 'EngineeringF' 'SupportP' 'HRf' 'MarketingB'\n",
      " 'Engineeringf' 'EngineeringW' 'HRB' 'Engineeringy' 'Marketinga' 'HRj'\n",
      " 'HRd' 'SupportI' 'HRA' 'Marketingj' 'MarketingV' 'EngineeringI' 'HRY'\n",
      " 'EngineeringZ' 'MarketingY' 'Marketingx' 'HRH' 'HRN' 'MarketingJ'\n",
      " 'MarketingW' 'HRh' 'Supportb' 'SalesT' 'Supportn' 'Engineeringa'\n",
      " 'SupportG' 'SalesO' 'SupportK' 'Engineeringd' 'HRk' 'Marketingd'\n",
      " 'MarketingS' 'MarketingT' 'HRR' 'Engineeringw' 'Salesg' 'HRb' 'SupportN'\n",
      " 'Marketingc' 'EngineeringU' 'Supportx' 'Salesp' 'HRu' 'MarketingK'\n",
      " 'SalesL' 'Salesx' 'SupportD' 'Supports' 'Salesm' 'Engineeringr' 'HRe'\n",
      " 'SupportM' 'MarketingM' 'SupportR' 'SupportU' 'Salesa' 'Salesf'\n",
      " 'Supportf' 'Salesh' 'Salesb' 'EngineeringB' 'HRG' 'Engineeringo'\n",
      " 'EngineeringN' 'HRV' 'HRS' 'SalesP' 'Supportc' 'HRx' 'EngineeringP' 'HRc'\n",
      " 'MarketingP' 'MarketingA']\n"
     ]
    }
   ],
   "source": [
    "# Find unique values in categorical columns\n",
    "categorical_columns = df.select_dtypes(include=['object']).columns\n",
    "for col in categorical_columns:\n",
    "    print(f\"\\nUnique values in {col}:\")\n",
    "    print(df[col].unique())\n"
   ]
  },
  {
   "cell_type": "markdown",
   "id": "50b32098",
   "metadata": {},
   "source": [
    "Age: Some values seem extreme (e.g., 90), and it would be important to check for outliers.\n",
    "\n",
    "Email: Some emails lack proper format (e.g., luke56gonzalez.com and jscottgreen.biz).\n",
    "\n",
    "Join Date: Missing values are present.\n",
    "\n",
    "Salary: Some values seem correct, but we should check for outliers.\n",
    "\n",
    "Department: There are missing values and potential data entry errors (e.g., SupportJ instead of Support)."
   ]
  },
  {
   "cell_type": "code",
   "execution_count": 16,
   "id": "43a58abe",
   "metadata": {},
   "outputs": [
    {
     "data": {
      "text/plain": [
       "ID               0\n",
       "Name          2333\n",
       "Age           1747\n",
       "Email         1269\n",
       "Join Date     2192\n",
       "Salary        2239\n",
       "Department    2255\n",
       "dtype: int64"
      ]
     },
     "execution_count": 16,
     "metadata": {},
     "output_type": "execute_result"
    }
   ],
   "source": [
    "# Null check\n",
    "null_values = df.isnull().sum()\n",
    "null_values"
   ]
  },
  {
   "cell_type": "code",
   "execution_count": 17,
   "id": "efbc781f",
   "metadata": {},
   "outputs": [],
   "source": [
    "#check for NaN values in each column\n",
    "nan_values = df.isna().any()"
   ]
  },
  {
   "cell_type": "code",
   "execution_count": 18,
   "id": "628c9abb",
   "metadata": {},
   "outputs": [
    {
     "name": "stdout",
     "output_type": "stream",
     "text": [
      "columns with NaN values ['Name', 'Age', 'Email', 'Join Date', 'Salary', 'Department']\n"
     ]
    }
   ],
   "source": [
    "\n",
    "#print columns with NaN values\n",
    "\n",
    "columns_with_nan = nan_values[nan_values].index.tolist()\n",
    "print('columns with NaN values',columns_with_nan)\n",
    "     "
   ]
  },
  {
   "cell_type": "code",
   "execution_count": 19,
   "id": "ab93d792",
   "metadata": {},
   "outputs": [
    {
     "data": {
      "text/plain": [
       "ID            False\n",
       "Name           True\n",
       "Age            True\n",
       "Email          True\n",
       "Join Date      True\n",
       "Salary        False\n",
       "Department     True\n",
       "dtype: bool"
      ]
     },
     "execution_count": 19,
     "metadata": {},
     "output_type": "execute_result"
    }
   ],
   "source": [
    "df['Salary'] = df['Salary'].fillna(df['Salary'].mean())\n",
    "df.isna().any()"
   ]
  },
  {
   "cell_type": "markdown",
   "id": "b7039c04",
   "metadata": {},
   "source": [
    "###### Correct Email Formats"
   ]
  },
  {
   "cell_type": "code",
   "execution_count": 20,
   "id": "78a2c1e1",
   "metadata": {},
   "outputs": [],
   "source": [
    "import re"
   ]
  },
  {
   "cell_type": "code",
   "execution_count": 21,
   "id": "57a94609",
   "metadata": {},
   "outputs": [
    {
     "name": "stderr",
     "output_type": "stream",
     "text": [
      "C:\\Users\\user\\AppData\\Local\\Temp\\ipykernel_14096\\2015618924.py:17: SettingWithCopyWarning: \n",
      "A value is trying to be set on a copy of a slice from a DataFrame\n",
      "\n",
      "See the caveats in the documentation: https://pandas.pydata.org/pandas-docs/stable/user_guide/indexing.html#returning-a-view-versus-a-copy\n",
      "  df_professional_emails.drop(columns=['valid_email'], inplace=True)\n"
     ]
    },
    {
     "data": {
      "text/html": [
       "<div>\n",
       "<style scoped>\n",
       "    .dataframe tbody tr th:only-of-type {\n",
       "        vertical-align: middle;\n",
       "    }\n",
       "\n",
       "    .dataframe tbody tr th {\n",
       "        vertical-align: top;\n",
       "    }\n",
       "\n",
       "    .dataframe thead th {\n",
       "        text-align: right;\n",
       "    }\n",
       "</style>\n",
       "<table border=\"1\" class=\"dataframe\">\n",
       "  <thead>\n",
       "    <tr style=\"text-align: right;\">\n",
       "      <th></th>\n",
       "      <th>ID</th>\n",
       "      <th>Name</th>\n",
       "      <th>Age</th>\n",
       "      <th>Email</th>\n",
       "      <th>Join Date</th>\n",
       "      <th>Salary</th>\n",
       "      <th>Department</th>\n",
       "    </tr>\n",
       "  </thead>\n",
       "  <tbody>\n",
       "    <tr>\n",
       "      <th>5</th>\n",
       "      <td>f92ea13f-24d3-4792-91e4-5b0e07d90c2c</td>\n",
       "      <td>Lisa Bailey</td>\n",
       "      <td>81.0</td>\n",
       "      <td>milleryvonne@fowler-york.com</td>\n",
       "      <td>15/10/2016</td>\n",
       "      <td>123018.000000</td>\n",
       "      <td>SupportE</td>\n",
       "    </tr>\n",
       "    <tr>\n",
       "      <th>9</th>\n",
       "      <td>d06f507d-62e5-4bd6-a252-4e60e109d324</td>\n",
       "      <td>Jay Fisher</td>\n",
       "      <td>44.0</td>\n",
       "      <td>denisemaynard@jordan.com</td>\n",
       "      <td>2022-12-08</td>\n",
       "      <td>37701.725993</td>\n",
       "      <td>HR</td>\n",
       "    </tr>\n",
       "    <tr>\n",
       "      <th>10</th>\n",
       "      <td>d5fe9321-49cf-4f14-ac96-7aea1204247b</td>\n",
       "      <td>Craig Conway</td>\n",
       "      <td>88.0</td>\n",
       "      <td>gerald47@woodard-smith.com</td>\n",
       "      <td>NaN</td>\n",
       "      <td>81214.525972</td>\n",
       "      <td>Engineering</td>\n",
       "    </tr>\n",
       "    <tr>\n",
       "      <th>14</th>\n",
       "      <td>9b83a5e5-9516-493f-86f8-d6c445edb501</td>\n",
       "      <td>Nicole Cardenas</td>\n",
       "      <td>60.0</td>\n",
       "      <td>griffinlinda@harrison.com</td>\n",
       "      <td>16/10/2003</td>\n",
       "      <td>51625.814403</td>\n",
       "      <td>Marketing</td>\n",
       "    </tr>\n",
       "    <tr>\n",
       "      <th>15</th>\n",
       "      <td>0074dbd5-10d0-463f-9b10-d8473bea04ba</td>\n",
       "      <td>NaN</td>\n",
       "      <td>22.0</td>\n",
       "      <td>ericjohnson@castillo-mendez.net</td>\n",
       "      <td>2023-03-01</td>\n",
       "      <td>89886.585012</td>\n",
       "      <td>HR</td>\n",
       "    </tr>\n",
       "  </tbody>\n",
       "</table>\n",
       "</div>"
      ],
      "text/plain": [
       "                                      ID             Name   Age  \\\n",
       "5   f92ea13f-24d3-4792-91e4-5b0e07d90c2c      Lisa Bailey  81.0   \n",
       "9   d06f507d-62e5-4bd6-a252-4e60e109d324       Jay Fisher  44.0   \n",
       "10  d5fe9321-49cf-4f14-ac96-7aea1204247b     Craig Conway  88.0   \n",
       "14  9b83a5e5-9516-493f-86f8-d6c445edb501  Nicole Cardenas  60.0   \n",
       "15  0074dbd5-10d0-463f-9b10-d8473bea04ba              NaN  22.0   \n",
       "\n",
       "                              Email   Join Date         Salary   Department  \n",
       "5      milleryvonne@fowler-york.com  15/10/2016  123018.000000     SupportE  \n",
       "9          denisemaynard@jordan.com  2022-12-08   37701.725993           HR  \n",
       "10       gerald47@woodard-smith.com         NaN   81214.525972  Engineering  \n",
       "14        griffinlinda@harrison.com  16/10/2003   51625.814403    Marketing  \n",
       "15  ericjohnson@castillo-mendez.net  2023-03-01   89886.585012           HR  "
      ]
     },
     "execution_count": 21,
     "metadata": {},
     "output_type": "execute_result"
    }
   ],
   "source": [
    "#Define a function to validate email format\n",
    "def is_valid_email(email):\n",
    "    email_regex = r'^[a-zA-Z0-9_.+-]+@[a-zA-Z0-9-]+\\.[a-zA-Z0-9-.]+$'\n",
    "    return re.match(email_regex, email) is not None\n",
    "\n",
    "#Apply the function to identify valid email addresses\n",
    "df['valid_email'] = df['Email'].apply(lambda x: is_valid_email(str(x)))\n",
    "\n",
    "#Filter out rows with invalid email addresses\n",
    "df_valid_emails = df[df['valid_email']]\n",
    "\n",
    "#Remove free/public email domains (e.g., gmail.com, yahoo.com)\n",
    "free_email_domains = ['gmail.com', 'yahoo.com', 'hotmail.com', 'outlook.com']\n",
    "df_professional_emails = df_valid_emails[df_valid_emails['Email'].apply(lambda x: not any(domain in x for domain in free_email_domains))]\n",
    "\n",
    "#Drop the helper column 'valid_email'\n",
    "df_professional_emails.drop(columns=['valid_email'], inplace=True)\n",
    "\n",
    "# Optional: Save the filtered dataset with only professional emails\n",
    "df_professional_emails.to_csv('cleaned_dataset.csv', index=False)\n",
    "\n",
    "# Display the result\n",
    "df_professional_emails.head()\n"
   ]
  },
  {
   "cell_type": "markdown",
   "id": "583855c3",
   "metadata": {},
   "source": [
    "###### Clean Name Fields"
   ]
  },
  {
   "cell_type": "code",
   "execution_count": 22,
   "id": "de0d6e7d",
   "metadata": {},
   "outputs": [
    {
     "data": {
      "text/html": [
       "<div>\n",
       "<style scoped>\n",
       "    .dataframe tbody tr th:only-of-type {\n",
       "        vertical-align: middle;\n",
       "    }\n",
       "\n",
       "    .dataframe tbody tr th {\n",
       "        vertical-align: top;\n",
       "    }\n",
       "\n",
       "    .dataframe thead th {\n",
       "        text-align: right;\n",
       "    }\n",
       "</style>\n",
       "<table border=\"1\" class=\"dataframe\">\n",
       "  <thead>\n",
       "    <tr style=\"text-align: right;\">\n",
       "      <th></th>\n",
       "      <th>Name</th>\n",
       "    </tr>\n",
       "  </thead>\n",
       "  <tbody>\n",
       "    <tr>\n",
       "      <th>0</th>\n",
       "      <td>Hunter Thomas</td>\n",
       "    </tr>\n",
       "    <tr>\n",
       "      <th>1</th>\n",
       "      <td>Jeremy Irwin</td>\n",
       "    </tr>\n",
       "    <tr>\n",
       "      <th>2</th>\n",
       "      <td>Jennifer Hammondquickly</td>\n",
       "    </tr>\n",
       "    <tr>\n",
       "      <th>3</th>\n",
       "      <td>Sydney Taylorso</td>\n",
       "    </tr>\n",
       "    <tr>\n",
       "      <th>4</th>\n",
       "      <td>Julia Lee</td>\n",
       "    </tr>\n",
       "  </tbody>\n",
       "</table>\n",
       "</div>"
      ],
      "text/plain": [
       "                      Name\n",
       "0            Hunter Thomas\n",
       "1             Jeremy Irwin\n",
       "2  Jennifer Hammondquickly\n",
       "3          Sydney Taylorso\n",
       "4                Julia Lee"
      ]
     },
     "execution_count": 22,
     "metadata": {},
     "output_type": "execute_result"
    }
   ],
   "source": [
    "#Define a function to clean names\n",
    "def clean_name(name):\n",
    "    # Remove any extraneous words, digits, or special characters using regex\n",
    "    name = re.sub(r'[^a-zA-Z\\s]', '', str(name))\n",
    "    \n",
    "    # Ensure consistent capitalization (First letter of each part capitalized)\n",
    "    name = name.title().strip()\n",
    "    \n",
    "    return name\n",
    "\n",
    "#Apply the function to the 'Name' column\n",
    "df['Cleaned_Name'] = df['Name'].apply(clean_name)\n",
    "\n",
    "#Drop the original 'Name' column and keep the cleaned version if required\n",
    "df.drop(columns=['Name'], inplace=True)\n",
    "df.rename(columns={'Cleaned_Name': 'Name'}, inplace=True)\n",
    "\n",
    "# Optional: Save the cleaned dataset\n",
    "df.to_csv('cleaned_dataset.csv', index=False)\n",
    "\n",
    "# Display the cleaned names\n",
    "df[['Name']].head()\n"
   ]
  },
  {
   "cell_type": "markdown",
   "id": "d0078b68",
   "metadata": {},
   "source": [
    "###### Standardise Date Formats"
   ]
  },
  {
   "cell_type": "code",
   "execution_count": 23,
   "id": "958a03df",
   "metadata": {},
   "outputs": [
    {
     "name": "stderr",
     "output_type": "stream",
     "text": [
      "C:\\Users\\user\\AppData\\Local\\Temp\\ipykernel_14096\\3621416705.py:9: FutureWarning: A value is trying to be set on a copy of a DataFrame or Series through chained assignment using an inplace method.\n",
      "The behavior will change in pandas 3.0. This inplace method will never work because the intermediate object on which we are setting values always behaves as a copy.\n",
      "\n",
      "For example, when doing 'df[col].method(value, inplace=True)', try using 'df.method({col: value}, inplace=True)' or df[col] = df[col].method(value) instead, to perform the operation inplace on the original object.\n",
      "\n",
      "\n",
      "  df['Join Date'].fillna('Unknown', inplace=True)\n"
     ]
    },
    {
     "data": {
      "text/html": [
       "<div>\n",
       "<style scoped>\n",
       "    .dataframe tbody tr th:only-of-type {\n",
       "        vertical-align: middle;\n",
       "    }\n",
       "\n",
       "    .dataframe tbody tr th {\n",
       "        vertical-align: top;\n",
       "    }\n",
       "\n",
       "    .dataframe thead th {\n",
       "        text-align: right;\n",
       "    }\n",
       "</style>\n",
       "<table border=\"1\" class=\"dataframe\">\n",
       "  <thead>\n",
       "    <tr style=\"text-align: right;\">\n",
       "      <th></th>\n",
       "      <th>Join Date</th>\n",
       "    </tr>\n",
       "  </thead>\n",
       "  <tbody>\n",
       "    <tr>\n",
       "      <th>0</th>\n",
       "      <td>Unknown</td>\n",
       "    </tr>\n",
       "    <tr>\n",
       "      <th>1</th>\n",
       "      <td>2022-07-07</td>\n",
       "    </tr>\n",
       "    <tr>\n",
       "      <th>2</th>\n",
       "      <td>2023-11-21</td>\n",
       "    </tr>\n",
       "    <tr>\n",
       "      <th>3</th>\n",
       "      <td>2021-11-05</td>\n",
       "    </tr>\n",
       "    <tr>\n",
       "      <th>4</th>\n",
       "      <td>Unknown</td>\n",
       "    </tr>\n",
       "  </tbody>\n",
       "</table>\n",
       "</div>"
      ],
      "text/plain": [
       "    Join Date\n",
       "0     Unknown\n",
       "1  2022-07-07\n",
       "2  2023-11-21\n",
       "3  2021-11-05\n",
       "4     Unknown"
      ]
     },
     "execution_count": 23,
     "metadata": {},
     "output_type": "execute_result"
    }
   ],
   "source": [
    "#Convert 'Join Date' to datetime format\n",
    "# Coerce any invalid formats to NaT (not a time)\n",
    "df['Join Date'] = pd.to_datetime(df['Join Date'], errors='coerce')\n",
    "\n",
    "#Reformat dates to 'YYYY-MM-DD'\n",
    "df['Join Date'] = df['Join Date'].dt.strftime('%Y-%m-%d')\n",
    "\n",
    "#Handle any NaT values (optional: replace with 'Unknown' or other placeholder)\n",
    "df['Join Date'].fillna('Unknown', inplace=True)\n",
    "\n",
    "# Optional: Save the cleaned dataset\n",
    "df.to_csv('cleaned_dataset.csv', index=False)\n",
    "\n",
    "# Display the first few rows to confirm changes\n",
    "df[['Join Date']].head()\n"
   ]
  },
  {
   "cell_type": "code",
   "execution_count": 24,
   "id": "73895b95",
   "metadata": {},
   "outputs": [
    {
     "name": "stdout",
     "output_type": "stream",
     "text": [
      "['Sales' nan 'Engineering' 'SupportJ' 'Marketing' 'SupportE' 'HR'\n",
      " 'Support' 'HRC' 'SalesA' 'SalesX' 'Supportu' 'Engineeringi' 'MarketingR'\n",
      " 'Salesw' 'SalesK' 'MarketingU' 'Salesi' 'HRa' 'SalesG' 'Supporty'\n",
      " 'SalesN' 'Marketinge' 'Marketingv' 'HRv' 'SalesM' 'EngineeringL'\n",
      " 'MarketingQ' 'HRs' 'SalesW' 'Supportj' 'Salesd' 'Marketingu'\n",
      " 'Engineeringj' 'SalesU' 'HRO' 'MarketingH' 'Salesj' 'Saleso' 'SalesZ'\n",
      " 'Engineeringe' 'MarketingF' 'Marketingr' 'Engineeringm' 'HRW' 'HRt' 'HRz'\n",
      " 'Engineeringp' 'HRF' 'EngineeringS' 'SupportW' 'EngineeringT' 'SalesC'\n",
      " 'SalesB' 'SupportC' 'SalesY' 'Marketingn' 'EngineeringK' 'Marketingz'\n",
      " 'HRo' 'SupportB' 'HRi' 'Salest' 'Supportg' 'Supporta' 'HRn' 'SupportQ'\n",
      " 'Salesr' 'EngineeringG' 'Supportm' 'Supporto' 'EngineeringH' 'Marketingw'\n",
      " 'EngineeringM' 'Supportz' 'HRr' 'Salesy' 'MarketingD' 'HRE' 'Marketingm'\n",
      " 'HRw' 'Marketingo' 'Supportk' 'MarketingN' 'SupportS' 'EngineeringD'\n",
      " 'Marketingp' 'Salesl' 'MarketingI' 'MarketingL' 'SupportT' 'Engineeringn'\n",
      " 'MarketingO' 'SalesF' 'Salesz' 'Marketingt' 'Engineeringv' 'HRL' 'HRI'\n",
      " 'EngineeringR' 'HRD' 'Marketingk' 'HRQ' 'Salese' 'Saless' 'Marketingi'\n",
      " 'Salesn' 'Engineeringl' 'SalesE' 'HRy' 'EngineeringE' 'SalesD' 'HRm'\n",
      " 'Engineerings' 'SupportF' 'Marketingy' 'MarketingG' 'SalesI' 'Salesu'\n",
      " 'Engineeringg' 'EngineeringQ' 'MarketingE' 'SupportA' 'Engineeringq'\n",
      " 'EngineeringA' 'Supporte' 'Engineeringu' 'EngineeringO' 'SalesS'\n",
      " 'Supportv' 'HRK' 'Engineeringb' 'SalesV' 'HRT' 'SupportY' 'SalesQ'\n",
      " 'MarketingX' 'Supportp' 'Marketingf' 'HRU' 'HRp' 'Salesq' 'HRg'\n",
      " 'Marketingl' 'EngineeringV' 'Engineeringt' 'SupportO' 'SalesJ'\n",
      " 'EngineeringX' 'Engineeringc' 'Marketingh' 'EngineeringC' 'Engineeringz'\n",
      " 'HRP' 'Salesv' 'Engineeringk' 'SupportH' 'Salesk' 'Supporth' 'SupportZ'\n",
      " 'Supportq' 'Supportr' 'HRJ' 'Supportd' 'HRZ' 'MarketingZ' 'Salesc'\n",
      " 'EngineeringJ' 'Engineeringx' 'SalesR' 'Engineeringh' 'Supportl'\n",
      " 'SupportX' 'Marketingg' 'SalesH' 'MarketingC' 'SupportV' 'HRq'\n",
      " 'Marketingb' 'Supporti' 'Supportw' 'SupportL' 'Marketings' 'Marketingq'\n",
      " 'HRM' 'Supportt' 'HRX' 'HRl' 'EngineeringF' 'SupportP' 'HRf' 'MarketingB'\n",
      " 'Engineeringf' 'EngineeringW' 'HRB' 'Engineeringy' 'Marketinga' 'HRj'\n",
      " 'HRd' 'SupportI' 'HRA' 'Marketingj' 'MarketingV' 'EngineeringI' 'HRY'\n",
      " 'EngineeringZ' 'MarketingY' 'Marketingx' 'HRH' 'HRN' 'MarketingJ'\n",
      " 'MarketingW' 'HRh' 'Supportb' 'SalesT' 'Supportn' 'Engineeringa'\n",
      " 'SupportG' 'SalesO' 'SupportK' 'Engineeringd' 'HRk' 'Marketingd'\n",
      " 'MarketingS' 'MarketingT' 'HRR' 'Engineeringw' 'Salesg' 'HRb' 'SupportN'\n",
      " 'Marketingc' 'EngineeringU' 'Supportx' 'Salesp' 'HRu' 'MarketingK'\n",
      " 'SalesL' 'Salesx' 'SupportD' 'Supports' 'Salesm' 'Engineeringr' 'HRe'\n",
      " 'SupportM' 'MarketingM' 'SupportR' 'SupportU' 'Salesa' 'Salesf'\n",
      " 'Supportf' 'Salesh' 'Salesb' 'EngineeringB' 'HRG' 'Engineeringo'\n",
      " 'EngineeringN' 'HRV' 'HRS' 'SalesP' 'Supportc' 'HRx' 'EngineeringP' 'HRc'\n",
      " 'MarketingP' 'MarketingA']\n"
     ]
    }
   ],
   "source": [
    "print(df['Department'].unique())"
   ]
  },
  {
   "cell_type": "markdown",
   "id": "d8059692",
   "metadata": {},
   "source": [
    "Department contains lot of spelling mistakes so we take a list of standard depatment names that are HR, Engineering, Marketing, Sales, Support "
   ]
  },
  {
   "cell_type": "code",
   "execution_count": 25,
   "id": "46b1faf0",
   "metadata": {},
   "outputs": [
    {
     "name": "stderr",
     "output_type": "stream",
     "text": [
      "\n",
      "[notice] A new release of pip is available: 24.0 -> 24.2\n",
      "[notice] To update, run: C:\\Users\\user\\AppData\\Local\\Microsoft\\WindowsApps\\PythonSoftwareFoundation.Python.3.11_qbz5n2kfra8p0\\python.exe -m pip install --upgrade pip\n"
     ]
    },
    {
     "name": "stdout",
     "output_type": "stream",
     "text": [
      "Requirement already satisfied: fuzzywuzzy[speedup] in c:\\users\\user\\appdata\\local\\packages\\pythonsoftwarefoundation.python.3.11_qbz5n2kfra8p0\\localcache\\local-packages\\python311\\site-packages (0.18.0)\n",
      "Requirement already satisfied: python-levenshtein>=0.12 in c:\\users\\user\\appdata\\local\\packages\\pythonsoftwarefoundation.python.3.11_qbz5n2kfra8p0\\localcache\\local-packages\\python311\\site-packages (from fuzzywuzzy[speedup]) (0.26.0)\n",
      "Requirement already satisfied: Levenshtein==0.26.0 in c:\\users\\user\\appdata\\local\\packages\\pythonsoftwarefoundation.python.3.11_qbz5n2kfra8p0\\localcache\\local-packages\\python311\\site-packages (from python-levenshtein>=0.12->fuzzywuzzy[speedup]) (0.26.0)\n",
      "Requirement already satisfied: rapidfuzz<4.0.0,>=3.9.0 in c:\\users\\user\\appdata\\local\\packages\\pythonsoftwarefoundation.python.3.11_qbz5n2kfra8p0\\localcache\\local-packages\\python311\\site-packages (from Levenshtein==0.26.0->python-levenshtein>=0.12->fuzzywuzzy[speedup]) (3.10.0)\n"
     ]
    },
    {
     "name": "stderr",
     "output_type": "stream",
     "text": [
      "C:\\Users\\user\\AppData\\Local\\Temp\\ipykernel_14096\\2321263391.py:25: FutureWarning: A value is trying to be set on a copy of a DataFrame or Series through chained assignment using an inplace method.\n",
      "The behavior will change in pandas 3.0. This inplace method will never work because the intermediate object on which we are setting values always behaves as a copy.\n",
      "\n",
      "For example, when doing 'df[col].method(value, inplace=True)', try using 'df.method({col: value}, inplace=True)' or df[col] = df[col].method(value) instead, to perform the operation inplace on the original object.\n",
      "\n",
      "\n",
      "  df['Department'].fillna('Unknown', inplace=True)\n"
     ]
    },
    {
     "data": {
      "text/html": [
       "<div>\n",
       "<style scoped>\n",
       "    .dataframe tbody tr th:only-of-type {\n",
       "        vertical-align: middle;\n",
       "    }\n",
       "\n",
       "    .dataframe tbody tr th {\n",
       "        vertical-align: top;\n",
       "    }\n",
       "\n",
       "    .dataframe thead th {\n",
       "        text-align: right;\n",
       "    }\n",
       "</style>\n",
       "<table border=\"1\" class=\"dataframe\">\n",
       "  <thead>\n",
       "    <tr style=\"text-align: right;\">\n",
       "      <th></th>\n",
       "      <th>Department</th>\n",
       "    </tr>\n",
       "  </thead>\n",
       "  <tbody>\n",
       "    <tr>\n",
       "      <th>0</th>\n",
       "      <td>Sales</td>\n",
       "    </tr>\n",
       "    <tr>\n",
       "      <th>1</th>\n",
       "      <td>Unknown</td>\n",
       "    </tr>\n",
       "    <tr>\n",
       "      <th>2</th>\n",
       "      <td>Engineering</td>\n",
       "    </tr>\n",
       "    <tr>\n",
       "      <th>3</th>\n",
       "      <td>Support</td>\n",
       "    </tr>\n",
       "    <tr>\n",
       "      <th>4</th>\n",
       "      <td>Marketing</td>\n",
       "    </tr>\n",
       "  </tbody>\n",
       "</table>\n",
       "</div>"
      ],
      "text/plain": [
       "    Department\n",
       "0        Sales\n",
       "1      Unknown\n",
       "2  Engineering\n",
       "3      Support\n",
       "4    Marketing"
      ]
     },
     "execution_count": 25,
     "metadata": {},
     "output_type": "execute_result"
    }
   ],
   "source": [
    "!pip install fuzzywuzzy[speedup]\n",
    "\n",
    "from fuzzywuzzy import process\n",
    "\n",
    "#Define a list of standard department names\n",
    "standard_departments = ['HR', 'Engineering', 'Marketing', 'Sales', 'Support']\n",
    "\n",
    "#Create a function to standardize department names using fuzzy matching\n",
    "def correct_department(dept):\n",
    "    if pd.isnull(dept):\n",
    "        return dept\n",
    "    \n",
    "    dept = dept.strip().title()  # Clean and format the string\n",
    "    \n",
    "    best_match = process.extractOne(dept, standard_departments)  # Fuzzy matching\n",
    "    \n",
    "    if best_match[1] >= 80:\n",
    "        return best_match[0]\n",
    "    return dept\n",
    "\n",
    "#Apply the function to the 'Department' column\n",
    "df['Department'] = df['Department'].apply(correct_department)\n",
    "\n",
    "#Fill missing departments with 'Unknown' or another placeholder\n",
    "df['Department'].fillna('Unknown', inplace=True)\n",
    "\n",
    "# Optional: Save the cleaned dataset\n",
    "df.to_csv('cleaned_dataset.csv', index=False)\n",
    "\n",
    "# Display the cleaned department column\n",
    "df[['Department']].head()\n"
   ]
  },
  {
   "cell_type": "code",
   "execution_count": 26,
   "id": "ebf7909e",
   "metadata": {},
   "outputs": [
    {
     "data": {
      "text/plain": [
       "Department \n",
       "Unknown        2255\n",
       "Support        1781\n",
       "Sales          1777\n",
       "Marketing      1765\n",
       "Engineering    1717\n",
       "HR             1705\n",
       "Name: count, dtype: int64"
      ]
     },
     "execution_count": 26,
     "metadata": {},
     "output_type": "execute_result"
    }
   ],
   "source": [
    "df[['Department']].value_counts()"
   ]
  },
  {
   "cell_type": "markdown",
   "id": "6cb6d2bb",
   "metadata": {},
   "source": [
    "###### Handle Missing Values & Handle Salary Noise"
   ]
  },
  {
   "cell_type": "code",
   "execution_count": 27,
   "id": "1175b7c3",
   "metadata": {},
   "outputs": [
    {
     "name": "stdout",
     "output_type": "stream",
     "text": [
      "Requirement already satisfied: numpy in c:\\users\\user\\appdata\\local\\packages\\pythonsoftwarefoundation.python.3.11_qbz5n2kfra8p0\\localcache\\local-packages\\python311\\site-packages (1.26.0)\n"
     ]
    },
    {
     "name": "stderr",
     "output_type": "stream",
     "text": [
      "\n",
      "[notice] A new release of pip is available: 24.0 -> 24.2\n",
      "[notice] To update, run: C:\\Users\\user\\AppData\\Local\\Microsoft\\WindowsApps\\PythonSoftwareFoundation.Python.3.11_qbz5n2kfra8p0\\python.exe -m pip install --upgrade pip\n"
     ]
    },
    {
     "name": "stdout",
     "output_type": "stream",
     "text": [
      "Requirement already satisfied: matplotlib in c:\\users\\user\\appdata\\local\\packages\\pythonsoftwarefoundation.python.3.11_qbz5n2kfra8p0\\localcache\\local-packages\\python311\\site-packages (3.9.2)"
     ]
    },
    {
     "name": "stderr",
     "output_type": "stream",
     "text": [
      "\n",
      "[notice] A new release of pip is available: 24.0 -> 24.2\n",
      "[notice] To update, run: C:\\Users\\user\\AppData\\Local\\Microsoft\\WindowsApps\\PythonSoftwareFoundation.Python.3.11_qbz5n2kfra8p0\\python.exe -m pip install --upgrade pip\n"
     ]
    },
    {
     "name": "stdout",
     "output_type": "stream",
     "text": [
      "\n",
      "Requirement already satisfied: contourpy>=1.0.1 in c:\\users\\user\\appdata\\local\\packages\\pythonsoftwarefoundation.python.3.11_qbz5n2kfra8p0\\localcache\\local-packages\\python311\\site-packages (from matplotlib) (1.3.0)\n",
      "Requirement already satisfied: cycler>=0.10 in c:\\users\\user\\appdata\\local\\packages\\pythonsoftwarefoundation.python.3.11_qbz5n2kfra8p0\\localcache\\local-packages\\python311\\site-packages (from matplotlib) (0.12.1)\n",
      "Requirement already satisfied: fonttools>=4.22.0 in c:\\users\\user\\appdata\\local\\packages\\pythonsoftwarefoundation.python.3.11_qbz5n2kfra8p0\\localcache\\local-packages\\python311\\site-packages (from matplotlib) (4.54.1)\n",
      "Requirement already satisfied: kiwisolver>=1.3.1 in c:\\users\\user\\appdata\\local\\packages\\pythonsoftwarefoundation.python.3.11_qbz5n2kfra8p0\\localcache\\local-packages\\python311\\site-packages (from matplotlib) (1.4.7)\n",
      "Requirement already satisfied: numpy>=1.23 in c:\\users\\user\\appdata\\local\\packages\\pythonsoftwarefoundation.python.3.11_qbz5n2kfra8p0\\localcache\\local-packages\\python311\\site-packages (from matplotlib) (1.26.0)\n",
      "Requirement already satisfied: packaging>=20.0 in c:\\users\\user\\appdata\\local\\packages\\pythonsoftwarefoundation.python.3.11_qbz5n2kfra8p0\\localcache\\local-packages\\python311\\site-packages (from matplotlib) (23.1)\n",
      "Requirement already satisfied: pillow>=8 in c:\\users\\user\\appdata\\local\\packages\\pythonsoftwarefoundation.python.3.11_qbz5n2kfra8p0\\localcache\\local-packages\\python311\\site-packages (from matplotlib) (10.4.0)\n",
      "Requirement already satisfied: pyparsing>=2.3.1 in c:\\users\\user\\appdata\\local\\packages\\pythonsoftwarefoundation.python.3.11_qbz5n2kfra8p0\\localcache\\local-packages\\python311\\site-packages (from matplotlib) (3.1.4)\n",
      "Requirement already satisfied: python-dateutil>=2.7 in c:\\users\\user\\appdata\\local\\packages\\pythonsoftwarefoundation.python.3.11_qbz5n2kfra8p0\\localcache\\local-packages\\python311\\site-packages (from matplotlib) (2.8.2)\n",
      "Requirement already satisfied: six>=1.5 in c:\\users\\user\\appdata\\local\\packages\\pythonsoftwarefoundation.python.3.11_qbz5n2kfra8p0\\localcache\\local-packages\\python311\\site-packages (from python-dateutil>=2.7->matplotlib) (1.16.0)\n"
     ]
    }
   ],
   "source": [
    "!pip install numpy\n",
    "!pip install matplotlib\n",
    "import numpy as np\n",
    "import matplotlib.pyplot as plt"
   ]
  },
  {
   "cell_type": "code",
   "execution_count": 28,
   "id": "6cb95623",
   "metadata": {},
   "outputs": [
    {
     "name": "stdout",
     "output_type": "stream",
     "text": [
      "count     11000.000000\n",
      "mean      89886.585012\n",
      "std       31142.615532\n",
      "min       24655.136613\n",
      "25%       67218.000000\n",
      "50%       89886.585012\n",
      "75%      112242.000000\n",
      "max      176156.206747\n",
      "Name: Salary, dtype: float64\n"
     ]
    },
    {
     "data": {
      "image/png": "[encoded data removed]",
      "text/plain": [
       "<Figure size 1000x600 with 1 Axes>"
      ]
     },
     "metadata": {},
     "output_type": "display_data"
    },
    {
     "name": "stdout",
     "output_type": "stream",
     "text": [
      "count     11000.000000\n",
      "mean      89892.196046\n",
      "std       31131.582496\n",
      "min       30000.000000\n",
      "25%       67218.000000\n",
      "50%       89886.585012\n",
      "75%      112242.000000\n",
      "max      176156.206747\n",
      "Name: Salary, dtype: float64\n"
     ]
    },
    {
     "name": "stderr",
     "output_type": "stream",
     "text": [
      "C:\\Users\\user\\AppData\\Local\\Temp\\ipykernel_14096\\1552061129.py:23: FutureWarning: A value is trying to be set on a copy of a DataFrame or Series through chained assignment using an inplace method.\n",
      "The behavior will change in pandas 3.0. This inplace method will never work because the intermediate object on which we are setting values always behaves as a copy.\n",
      "\n",
      "For example, when doing 'df[col].method(value, inplace=True)', try using 'df.method({col: value}, inplace=True)' or df[col] = df[col].method(value) instead, to perform the operation inplace on the original object.\n",
      "\n",
      "\n",
      "  df['Salary'].fillna(median_salary, inplace=True)\n"
     ]
    }
   ],
   "source": [
    "#Check basic statistics of the Salary column\n",
    "salary_stats = df['Salary'].describe()\n",
    "print(salary_stats)\n",
    "\n",
    "#Visualize salary distribution to identify outliers\n",
    "plt.figure(figsize=(10, 6))\n",
    "plt.boxplot(df['Salary'].dropna())\n",
    "plt.title('Boxplot of Salary')\n",
    "plt.ylabel('Salary')\n",
    "plt.show()\n",
    "\n",
    "#Define a reasonable salary range (e.g., based on industry knowledge)\n",
    "#Let's assume salaries between $30,000 and $300,000 are reasonable\n",
    "reasonable_min_salary = 30000\n",
    "reasonable_max_salary = 300000\n",
    "\n",
    "#Cap or remove salaries outside the reasonable range\n",
    "df['Salary'] = np.where(df['Salary'] < reasonable_min_salary, reasonable_min_salary, df['Salary'])\n",
    "df['Salary'] = np.where(df['Salary'] > reasonable_max_salary, reasonable_max_salary, df['Salary'])\n",
    "\n",
    "#Handle missing values by filling them with the median salary\n",
    "median_salary = df['Salary'].median()\n",
    "df['Salary'].fillna(median_salary, inplace=True)\n",
    "\n",
    "# Optional: Save the cleaned dataset\n",
    "df.to_csv('cleaned_dataset.csv', index=False)\n",
    "\n",
    "# Display the cleaned salary column statistics\n",
    "cleaned_salary_stats = df['Salary'].describe()\n",
    "print(cleaned_salary_stats)\n"
   ]
  },
  {
   "cell_type": "code",
   "execution_count": 29,
   "id": "80ff51c7",
   "metadata": {},
   "outputs": [
    {
     "data": {
      "text/html": [
       "<div>\n",
       "<style scoped>\n",
       "    .dataframe tbody tr th:only-of-type {\n",
       "        vertical-align: middle;\n",
       "    }\n",
       "\n",
       "    .dataframe tbody tr th {\n",
       "        vertical-align: top;\n",
       "    }\n",
       "\n",
       "    .dataframe thead th {\n",
       "        text-align: right;\n",
       "    }\n",
       "</style>\n",
       "<table border=\"1\" class=\"dataframe\">\n",
       "  <thead>\n",
       "    <tr style=\"text-align: right;\">\n",
       "      <th></th>\n",
       "      <th>ID</th>\n",
       "      <th>Age</th>\n",
       "      <th>Email</th>\n",
       "      <th>Join Date</th>\n",
       "      <th>Salary</th>\n",
       "      <th>Department</th>\n",
       "      <th>valid_email</th>\n",
       "      <th>Name</th>\n",
       "    </tr>\n",
       "  </thead>\n",
       "  <tbody>\n",
       "    <tr>\n",
       "      <th>0</th>\n",
       "      <td>1e407ff9-6255-489d-a0de-34135d4f74bd</td>\n",
       "      <td>25.0</td>\n",
       "      <td>xlopez@hotmail.com</td>\n",
       "      <td>Unknown</td>\n",
       "      <td>88552.0</td>\n",
       "      <td>Sales</td>\n",
       "      <td>True</td>\n",
       "      <td>Hunter Thomas</td>\n",
       "    </tr>\n",
       "    <tr>\n",
       "      <th>1</th>\n",
       "      <td>379f55b8-87d5-4739-a146-7400b78c24d1</td>\n",
       "      <td>90.0</td>\n",
       "      <td>Jillian Jenkins</td>\n",
       "      <td>2022-07-07</td>\n",
       "      <td>139227.0</td>\n",
       "      <td>Unknown</td>\n",
       "      <td>False</td>\n",
       "      <td>Jeremy Irwin</td>\n",
       "    </tr>\n",
       "    <tr>\n",
       "      <th>2</th>\n",
       "      <td>18261368-dfa1-47f0-afc6-bddf45926b07</td>\n",
       "      <td>66.0</td>\n",
       "      <td>jscottgreen.biz</td>\n",
       "      <td>2023-11-21</td>\n",
       "      <td>65550.0</td>\n",
       "      <td>Engineering</td>\n",
       "      <td>False</td>\n",
       "      <td>Jennifer Hammondquickly</td>\n",
       "    </tr>\n",
       "    <tr>\n",
       "      <th>3</th>\n",
       "      <td>ae7cf7cf-17cf-4c8b-9c44-4f61a9a238e5</td>\n",
       "      <td>39.0</td>\n",
       "      <td>luke56gonzalez.com</td>\n",
       "      <td>2021-11-05</td>\n",
       "      <td>139932.0</td>\n",
       "      <td>Support</td>\n",
       "      <td>False</td>\n",
       "      <td>Sydney Taylorso</td>\n",
       "    </tr>\n",
       "    <tr>\n",
       "      <th>4</th>\n",
       "      <td>14ed3e6a-e0f5-4bbe-8d93-8665267f5c90</td>\n",
       "      <td>71.0</td>\n",
       "      <td>figueroakayla@yahoo.com</td>\n",
       "      <td>Unknown</td>\n",
       "      <td>143456.0</td>\n",
       "      <td>Marketing</td>\n",
       "      <td>True</td>\n",
       "      <td>Julia Lee</td>\n",
       "    </tr>\n",
       "  </tbody>\n",
       "</table>\n",
       "</div>"
      ],
      "text/plain": [
       "                                     ID   Age                    Email  \\\n",
       "0  1e407ff9-6255-489d-a0de-34135d4f74bd  25.0       xlopez@hotmail.com   \n",
       "1  379f55b8-87d5-4739-a146-7400b78c24d1  90.0          Jillian Jenkins   \n",
       "2  18261368-dfa1-47f0-afc6-bddf45926b07  66.0          jscottgreen.biz   \n",
       "3  ae7cf7cf-17cf-4c8b-9c44-4f61a9a238e5  39.0       luke56gonzalez.com   \n",
       "4  14ed3e6a-e0f5-4bbe-8d93-8665267f5c90  71.0  figueroakayla@yahoo.com   \n",
       "\n",
       "    Join Date    Salary   Department  valid_email                     Name  \n",
       "0     Unknown   88552.0        Sales         True            Hunter Thomas  \n",
       "1  2022-07-07  139227.0      Unknown        False             Jeremy Irwin  \n",
       "2  2023-11-21   65550.0  Engineering        False  Jennifer Hammondquickly  \n",
       "3  2021-11-05  139932.0      Support        False          Sydney Taylorso  \n",
       "4     Unknown  143456.0    Marketing         True                Julia Lee  "
      ]
     },
     "execution_count": 29,
     "metadata": {},
     "output_type": "execute_result"
    }
   ],
   "source": [
    "data = pd.read_csv(\"cleaned_dataset.csv\")\n",
    "data.head()"
   ]
  },
  {
   "cell_type": "code",
   "execution_count": 30,
   "id": "a402a319",
   "metadata": {},
   "outputs": [
    {
     "name": "stderr",
     "output_type": "stream",
     "text": [
      "\n",
      "[notice] A new release of pip is available: 24.0 -> 24.2\n",
      "[notice] To update, run: C:\\Users\\user\\AppData\\Local\\Microsoft\\WindowsApps\\PythonSoftwareFoundation.Python.3.11_qbz5n2kfra8p0\\python.exe -m pip install --upgrade pip\n"
     ]
    },
    {
     "name": "stdout",
     "output_type": "stream",
     "text": [
      "Requirement already satisfied: matplotlib in c:\\users\\user\\appdata\\local\\packages\\pythonsoftwarefoundation.python.3.11_qbz5n2kfra8p0\\localcache\\local-packages\\python311\\site-packages (3.9.2)\n",
      "Requirement already satisfied: contourpy>=1.0.1 in c:\\users\\user\\appdata\\local\\packages\\pythonsoftwarefoundation.python.3.11_qbz5n2kfra8p0\\localcache\\local-packages\\python311\\site-packages (from matplotlib) (1.3.0)\n",
      "Requirement already satisfied: cycler>=0.10 in c:\\users\\user\\appdata\\local\\packages\\pythonsoftwarefoundation.python.3.11_qbz5n2kfra8p0\\localcache\\local-packages\\python311\\site-packages (from matplotlib) (0.12.1)\n",
      "Requirement already satisfied: fonttools>=4.22.0 in c:\\users\\user\\appdata\\local\\packages\\pythonsoftwarefoundation.python.3.11_qbz5n2kfra8p0\\localcache\\local-packages\\python311\\site-packages (from matplotlib) (4.54.1)\n",
      "Requirement already satisfied: kiwisolver>=1.3.1 in c:\\users\\user\\appdata\\local\\packages\\pythonsoftwarefoundation.python.3.11_qbz5n2kfra8p0\\localcache\\local-packages\\python311\\site-packages (from matplotlib) (1.4.7)\n",
      "Requirement already satisfied: numpy>=1.23 in c:\\users\\user\\appdata\\local\\packages\\pythonsoftwarefoundation.python.3.11_qbz5n2kfra8p0\\localcache\\local-packages\\python311\\site-packages (from matplotlib) (1.26.0)\n",
      "Requirement already satisfied: packaging>=20.0 in c:\\users\\user\\appdata\\local\\packages\\pythonsoftwarefoundation.python.3.11_qbz5n2kfra8p0\\localcache\\local-packages\\python311\\site-packages (from matplotlib) (23.1)\n",
      "Requirement already satisfied: pillow>=8 in c:\\users\\user\\appdata\\local\\packages\\pythonsoftwarefoundation.python.3.11_qbz5n2kfra8p0\\localcache\\local-packages\\python311\\site-packages (from matplotlib) (10.4.0)\n",
      "Requirement already satisfied: pyparsing>=2.3.1 in c:\\users\\user\\appdata\\local\\packages\\pythonsoftwarefoundation.python.3.11_qbz5n2kfra8p0\\localcache\\local-packages\\python311\\site-packages (from matplotlib) (3.1.4)\n",
      "Requirement already satisfied: python-dateutil>=2.7 in c:\\users\\user\\appdata\\local\\packages\\pythonsoftwarefoundation.python.3.11_qbz5n2kfra8p0\\localcache\\local-packages\\python311\\site-packages (from matplotlib) (2.8.2)\n",
      "Requirement already satisfied: six>=1.5 in c:\\users\\user\\appdata\\local\\packages\\pythonsoftwarefoundation.python.3.11_qbz5n2kfra8p0\\localcache\\local-packages\\python311\\site-packages (from python-dateutil>=2.7->matplotlib) (1.16.0)\n"
     ]
    },
    {
     "data": {
      "image/png": "[encoded data removed]",
      "text/plain": [
       "<Figure size 1000x600 with 1 Axes>"
      ]
     },
     "metadata": {},
     "output_type": "display_data"
    }
   ],
   "source": [
    "!pip install matplotlib\n",
    "import matplotlib.pyplot as plt\n",
    "\n",
    "#Ensure 'Salary' column is numeric (in case there are any non-numeric values)\n",
    "data['Salary'] = pd.to_numeric(data['Salary'], errors='coerce')\n",
    "\n",
    "#Group by 'Department' and calculate the average salary\n",
    "average_salary_by_department = df.groupby('Department')['Salary'].mean()\n",
    "\n",
    "#Plot the bar chart\n",
    "plt.figure(figsize=(10, 6))\n",
    "average_salary_by_department.plot(kind='bar', color='skyblue')\n",
    "\n",
    "#Customize the plot\n",
    "plt.title('Average Salary by Department', fontsize=16)\n",
    "plt.xlabel('Department', fontsize=14)\n",
    "plt.ylabel('Average Salary', fontsize=14)\n",
    "plt.xticks(rotation=45, ha='right')\n",
    "\n",
    "#Show the plot\n",
    "plt.tight_layout()\n",
    "plt.show()\n"
   ]
  },
  {
   "cell_type": "markdown",
   "id": "2b0ac8c6",
   "metadata": {},
   "source": [
    "It shows salary distribution based on department \n",
    "Engineering feild members get more salary based on other department\n",
    "There is small variation in salary as compared to the other department"
   ]
  },
  {
   "cell_type": "code",
   "execution_count": 31,
   "id": "c94b7549",
   "metadata": {},
   "outputs": [
    {
     "name": "stderr",
     "output_type": "stream",
     "text": [
      "\n",
      "[notice] A new release of pip is available: 24.0 -> 24.2\n",
      "[notice] To update, run: C:\\Users\\user\\AppData\\Local\\Microsoft\\WindowsApps\\PythonSoftwareFoundation.Python.3.11_qbz5n2kfra8p0\\python.exe -m pip install --upgrade pip\n"
     ]
    },
    {
     "name": "stdout",
     "output_type": "stream",
     "text": [
      "Requirement already satisfied: matplotlib in c:\\users\\user\\appdata\\local\\packages\\pythonsoftwarefoundation.python.3.11_qbz5n2kfra8p0\\localcache\\local-packages\\python311\\site-packages (3.9.2)\n",
      "Requirement already satisfied: contourpy>=1.0.1 in c:\\users\\user\\appdata\\local\\packages\\pythonsoftwarefoundation.python.3.11_qbz5n2kfra8p0\\localcache\\local-packages\\python311\\site-packages (from matplotlib) (1.3.0)\n",
      "Requirement already satisfied: cycler>=0.10 in c:\\users\\user\\appdata\\local\\packages\\pythonsoftwarefoundation.python.3.11_qbz5n2kfra8p0\\localcache\\local-packages\\python311\\site-packages (from matplotlib) (0.12.1)\n",
      "Requirement already satisfied: fonttools>=4.22.0 in c:\\users\\user\\appdata\\local\\packages\\pythonsoftwarefoundation.python.3.11_qbz5n2kfra8p0\\localcache\\local-packages\\python311\\site-packages (from matplotlib) (4.54.1)\n",
      "Requirement already satisfied: kiwisolver>=1.3.1 in c:\\users\\user\\appdata\\local\\packages\\pythonsoftwarefoundation.python.3.11_qbz5n2kfra8p0\\localcache\\local-packages\\python311\\site-packages (from matplotlib) (1.4.7)\n",
      "Requirement already satisfied: numpy>=1.23 in c:\\users\\user\\appdata\\local\\packages\\pythonsoftwarefoundation.python.3.11_qbz5n2kfra8p0\\localcache\\local-packages\\python311\\site-packages (from matplotlib) (1.26.0)\n",
      "Requirement already satisfied: packaging>=20.0 in c:\\users\\user\\appdata\\local\\packages\\pythonsoftwarefoundation.python.3.11_qbz5n2kfra8p0\\localcache\\local-packages\\python311\\site-packages (from matplotlib) (23.1)\n",
      "Requirement already satisfied: pillow>=8 in c:\\users\\user\\appdata\\local\\packages\\pythonsoftwarefoundation.python.3.11_qbz5n2kfra8p0\\localcache\\local-packages\\python311\\site-packages (from matplotlib) (10.4.0)\n",
      "Requirement already satisfied: pyparsing>=2.3.1 in c:\\users\\user\\appdata\\local\\packages\\pythonsoftwarefoundation.python.3.11_qbz5n2kfra8p0\\localcache\\local-packages\\python311\\site-packages (from matplotlib) (3.1.4)\n",
      "Requirement already satisfied: python-dateutil>=2.7 in c:\\users\\user\\appdata\\local\\packages\\pythonsoftwarefoundation.python.3.11_qbz5n2kfra8p0\\localcache\\local-packages\\python311\\site-packages (from matplotlib) (2.8.2)\n",
      "Requirement already satisfied: six>=1.5 in c:\\users\\user\\appdata\\local\\packages\\pythonsoftwarefoundation.python.3.11_qbz5n2kfra8p0\\localcache\\local-packages\\python311\\site-packages (from python-dateutil>=2.7->matplotlib) (1.16.0)\n"
     ]
    },
    {
     "data": {
      "image/png": "[encoded data removed]",
      "text/plain": [
       "<Figure size 600x600 with 1 Axes>"
      ]
     },
     "metadata": {},
     "output_type": "display_data"
    }
   ],
   "source": [
    "!pip install matplotlib\n",
    "import matplotlib.pyplot as plt\n",
    "\n",
    "#Get the frequency of each department\n",
    "department_counts = data['Department'].value_counts()\n",
    "\n",
    "#Create a pie chart\n",
    "plt.figure(figsize=(6, 6))  # Set the figure size\n",
    "plt.pie(department_counts, labels=department_counts.index, autopct='%1.1f%%', startangle=90, colors=plt.cm.Paired.colors)\n",
    "\n",
    "#Customize the plot\n",
    "plt.title('Department Distribution', fontsize=16)\n",
    "plt.axis('equal')  # Equal aspect ratio ensures that the pie chart is drawn as a circle.\n",
    "\n",
    "#Show the pie chart\n",
    "plt.show()"
   ]
  },
  {
   "cell_type": "code",
   "execution_count": null,
   "id": "9e403ee7",
   "metadata": {},
   "outputs": [],
   "source": [
    "In this pie chart shows the department distribution.\n",
    "all department contains almost same number of members"
   ]
  },
  {
   "cell_type": "code",
   "execution_count": 32,
   "id": "29ee9e9c",
   "metadata": {},
   "outputs": [
    {
     "data": {
      "image/png": "[encoded data removed]",
      "text/plain": [
       "<Figure size 800x800 with 1 Axes>"
      ]
     },
     "metadata": {},
     "output_type": "display_data"
    }
   ],
   "source": [
    "#Ensure 'Salary' column is numeric (in case there are any non-numeric values)\n",
    "df['Salary'] = pd.to_numeric(df['Salary'], errors='coerce')\n",
    "\n",
    "#Define salary bins and labels\n",
    "bins = [0, 30000, 60000, 90000, 120000, 150000]  # Adjust bins as necessary\n",
    "labels = ['<30k', '30k-60k', '60k-90k', '90k-120k', '120k+']\n",
    "\n",
    "#Create a new column with salary categories\n",
    "df['Salary Category'] = pd.cut(df['Salary'], bins=bins, labels=labels, right=False)\n",
    "\n",
    "#Get the counts of each salary category\n",
    "salary_distribution = df['Salary Category'].value_counts()\n",
    "\n",
    "#Create a pie chart\n",
    "plt.figure(figsize=(6, 6))\n",
    "plt.pie(salary_distribution, labels=salary_distribution.index, autopct='%1.1f%%', startangle=90, colors=plt.cm.Paired.colors)\n",
    "\n",
    "#Customize the plot\n",
    "plt.title('Salary Distribution', fontsize=16)\n",
    "plt.axis('equal')  # Equal aspect ratio ensures that the pie chart is drawn as a circle.\n",
    "\n",
    "#Show the pie chart\n",
    "plt.show()\n"
   ]
  },
  {
   "cell_type": "markdown",
   "id": "3150dba8",
   "metadata": {},
   "source": [
    "Above pie chart shows salary distribution.\n",
    "In this figure we can understand nobody have salary below 30k\n",
    "Most of them have salary between 60k-90k"
   ]
  },
  {
   "cell_type": "code",
   "execution_count": 33,
   "id": "2ff4b2ef",
   "metadata": {},
   "outputs": [
    {
     "data": {
      "image/png": "[encoded data removed]",
      "text/plain": [
       "<Figure size 1000x600 with 1 Axes>"
      ]
     },
     "metadata": {},
     "output_type": "display_data"
    }
   ],
   "source": [
    "#Ensure 'Age' column is numeric (in case there are any non-numeric values)\n",
    "data['Age'] = pd.to_numeric(df['Age'], errors='coerce')\n",
    "\n",
    "#Group by 'Department' and calculate the average age\n",
    "age_by_department = data.groupby('Department')['Age'].mean()\n",
    "\n",
    "#Plot the bar chart\n",
    "plt.figure(figsize=(10, 6))\n",
    "age_by_department.plot(kind='bar', color='skyblue')\n",
    "\n",
    "#Customize the plot\n",
    "plt.title('Average Age by Department', fontsize=16)\n",
    "plt.xlabel('Department', fontsize=14)\n",
    "plt.ylabel('Average Age', fontsize=14)\n",
    "plt.xticks(rotation=45, ha='right')\n",
    "\n",
    "#Show the plot\n",
    "plt.tight_layout()\n",
    "plt.show()\n"
   ]
  },
  {
   "cell_type": "code",
   "execution_count": null,
   "id": "d4cecfc2",
   "metadata": {},
   "outputs": [],
   "source": [
    "It shows department vs age distribution"
   ]
  }
 ],
 "metadata": {
  "kernelspec": {
   "display_name": "Python 3 (ipykernel)",
   "language": "python",
   "name": "python3"
  },
  "language_info": {
   "codemirror_mode": {
    "name": "ipython",
    "version": 3
   },
   "file_extension": ".py",
   "mimetype": "text/x-python",
   "name": "python",
   "nbconvert_exporter": "python",
   "pygments_lexer": "ipython3",
   "version": "3.11.9"
  }
 },
 "nbformat": 4,
 "nbformat_minor": 5
}
